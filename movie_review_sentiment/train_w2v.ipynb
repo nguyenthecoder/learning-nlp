{
 "cells": [
  {
   "cell_type": "code",
   "execution_count": 6,
   "metadata": {},
   "outputs": [],
   "source": [
    "from os import listdir\n",
    "import string\n",
    "\n",
    "from gensim.models import Word2Vec"
   ]
  },
  {
   "cell_type": "code",
   "execution_count": 7,
   "metadata": {},
   "outputs": [],
   "source": [
    "def load_doc(filename):\n",
    "    with open(filename) as file:\n",
    "        doc = file.read()\n",
    "        return doc\n",
    "\n",
    "def process_doc_for_w2v(doc, vocab):\n",
    "    sentences = list()\n",
    "    for line in doc.splitlines():\n",
    "        table  = str.maketrans('', '', string.punctuation)\n",
    "        line = line.translate(table)\n",
    "        tokens = line.split()\n",
    "        tokens = [word for word in tokens if word in vocab]\n",
    "        sentences.append(tokens)\n",
    "    return sentences\n",
    "\n",
    "def load_dataset_w2v(directory, vocab, is_train = True):\n",
    "    features = list()\n",
    "    for file in listdir(directory):\n",
    "        if is_train and file.startswith('cv9'):\n",
    "            continue\n",
    "        if is_train == False and not file.startswith('cv9'):\n",
    "            continue\n",
    "        with open('/'.join([directory, file])) as f:\n",
    "            doc = f.read()\n",
    "            sentences = process_doc_for_w2v(doc, vocab) \n",
    "            features += sentences\n",
    "    return features "
   ]
  },
  {
   "cell_type": "code",
   "execution_count": 8,
   "metadata": {},
   "outputs": [
    {
     "name": "stdout",
     "output_type": "stream",
     "text": [
      "vocab size =  25435\n",
      "training sentences:  58109\n",
      "Total number of words  25435\n"
     ]
    }
   ],
   "source": [
    "#Train word 2 vec on dataset and produce word_2_vec.txt\n",
    "vocab = load_doc('vocab.txt')\n",
    "vocab = set(vocab.split())\n",
    "print('vocab size = ', len(vocab))\n",
    "\n",
    "pos_train = load_dataset_w2v('./datasets/movie_review/txt_sentoken/pos', vocab)\n",
    "neg_train = load_dataset_w2v('./datasets/movie_review/txt_sentoken/neg', vocab)\n",
    "\n",
    "sentences = pos_train + neg_train\n",
    "print(\"training sentences: \", len(sentences))\n",
    "\n",
    "w2v = Word2Vec(sentences, vector_size=100, window=5, workers=8, min_count=1)\n",
    "words = list(w2v.wv.key_to_index)\n",
    "print('Total number of words ',len(words))\n",
    "filename = 'word_2_vec.txt'\n",
    "w2v.wv.save_word2vec_format(filename, binary=False)"
   ]
  },
  {
   "cell_type": "code",
   "execution_count": null,
   "metadata": {},
   "outputs": [],
   "source": []
  }
 ],
 "metadata": {
  "interpreter": {
   "hash": "bd4b50b73317022a6c6cd77d285e17e0ffb874fa93a50956528cb9bde22a05db"
  },
  "kernelspec": {
   "display_name": "Python 3.9.12 ('nlp')",
   "language": "python",
   "name": "python3"
  },
  "language_info": {
   "codemirror_mode": {
    "name": "ipython",
    "version": 3
   },
   "file_extension": ".py",
   "mimetype": "text/x-python",
   "name": "python",
   "nbconvert_exporter": "python",
   "pygments_lexer": "ipython3",
   "version": "3.9.12"
  },
  "orig_nbformat": 4
 },
 "nbformat": 4,
 "nbformat_minor": 2
}
