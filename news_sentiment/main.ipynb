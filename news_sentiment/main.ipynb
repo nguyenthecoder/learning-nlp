{
 "cells": [
  {
   "cell_type": "code",
   "execution_count": 2,
   "metadata": {},
   "outputs": [
    {
     "name": "stdout",
     "output_type": "stream",
     "text": [
      "/home/nguyen/Desktop/learning-nlp/news_sentiment\n"
     ]
    }
   ],
   "source": [
    "import os\n",
    "print(os.getcwd())"
   ]
  },
  {
   "cell_type": "code",
   "execution_count": 24,
   "metadata": {},
   "outputs": [
    {
     "name": "stdout",
     "output_type": "stream",
     "text": [
      "Working directory:  /home/nguyen/Desktop/learning-nlp/news_sentiment\n",
      "Num GPUs Available:  1\n"
     ]
    },
    {
     "name": "stderr",
     "output_type": "stream",
     "text": [
      "[nltk_data] Downloading package wordnet to /home/nguyen/nltk_data...\n",
      "[nltk_data]   Package wordnet is already up-to-date!\n",
      "[nltk_data] Downloading package stopwords to /home/nguyen/nltk_data...\n",
      "[nltk_data]   Package stopwords is already up-to-date!\n",
      "[nltk_data] Downloading package omw-1.4 to /home/nguyen/nltk_data...\n",
      "[nltk_data]   Package omw-1.4 is already up-to-date!\n",
      "2022-04-20 16:31:11.498982: I tensorflow/stream_executor/cuda/cuda_gpu_executor.cc:936] successful NUMA node read from SysFS had negative value (-1), but there must be at least one NUMA node, so returning NUMA node zero\n",
      "2022-04-20 16:31:11.499168: I tensorflow/stream_executor/cuda/cuda_gpu_executor.cc:936] successful NUMA node read from SysFS had negative value (-1), but there must be at least one NUMA node, so returning NUMA node zero\n",
      "2022-04-20 16:31:11.499265: I tensorflow/stream_executor/cuda/cuda_gpu_executor.cc:936] successful NUMA node read from SysFS had negative value (-1), but there must be at least one NUMA node, so returning NUMA node zero\n",
      "2022-04-20 16:31:11.499400: I tensorflow/stream_executor/cuda/cuda_gpu_executor.cc:936] successful NUMA node read from SysFS had negative value (-1), but there must be at least one NUMA node, so returning NUMA node zero\n",
      "2022-04-20 16:31:11.499500: I tensorflow/stream_executor/cuda/cuda_gpu_executor.cc:936] successful NUMA node read from SysFS had negative value (-1), but there must be at least one NUMA node, so returning NUMA node zero\n",
      "2022-04-20 16:31:11.499571: I tensorflow/core/common_runtime/gpu/gpu_device.cc:1525] Created device /device:GPU:0 with 10006 MB memory:  -> device: 0, name: NVIDIA GeForce RTX 3060, pci bus id: 0000:01:00.0, compute capability: 8.6\n"
     ]
    },
    {
     "data": {
      "text/plain": [
       "'/device:GPU:0'"
      ]
     },
     "execution_count": 24,
     "metadata": {},
     "output_type": "execute_result"
    }
   ],
   "source": [
    "import pandas as pd\n",
    "import os\n",
    "import matplotlib.pyplot as plt\n",
    "import nltk\n",
    "from nltk.corpus import stopwords \n",
    "import string\n",
    "\n",
    "import matplotlib.pyplot as plt\n",
    "\n",
    "from keras.preprocessing.text import Tokenizer\n",
    "# from nltk.stem.porter import PorterStemmer\n",
    "from nltk.stem import WordNetLemmatizer\n",
    "from keras.preprocessing.sequence import pad_sequences\n",
    "from sklearn.preprocessing import LabelBinarizer\n",
    "from sklearn.model_selection import train_test_split\n",
    "\n",
    "from keras.models import Sequential\n",
    "from keras.layers import Embedding, Conv1D, MaxPooling1D, Dropout, Dense, Flatten, LSTM, SpatialDropout1D\n",
    "\n",
    "from keras.losses import CategoricalCrossentropy\n",
    "\n",
    "import tensorflow as tf\n",
    "\n",
    "nltk.download('wordnet')\n",
    "nltk.download('stopwords')\n",
    "nltk.download('omw-1.4')\n",
    "\n",
    "print('Working directory: ', os.getcwd())\n",
    "\n",
    "print(\"Num GPUs Available: \", len(tf.config.list_physical_devices('GPU')))\n",
    "\n",
    "tf.test.gpu_device_name()"
   ]
  },
  {
   "cell_type": "code",
   "execution_count": 16,
   "metadata": {},
   "outputs": [],
   "source": [
    "DATASET = './datasets/all-data.csv'\n",
    "CSV_ENCODING = 'ISO-8859-1'"
   ]
  },
  {
   "cell_type": "code",
   "execution_count": 17,
   "metadata": {},
   "outputs": [
    {
     "data": {
      "text/html": [
       "<div>\n",
       "<style scoped>\n",
       "    .dataframe tbody tr th:only-of-type {\n",
       "        vertical-align: middle;\n",
       "    }\n",
       "\n",
       "    .dataframe tbody tr th {\n",
       "        vertical-align: top;\n",
       "    }\n",
       "\n",
       "    .dataframe thead th {\n",
       "        text-align: right;\n",
       "    }\n",
       "</style>\n",
       "<table border=\"1\" class=\"dataframe\">\n",
       "  <thead>\n",
       "    <tr style=\"text-align: right;\">\n",
       "      <th></th>\n",
       "      <th>label</th>\n",
       "      <th>text</th>\n",
       "    </tr>\n",
       "  </thead>\n",
       "  <tbody>\n",
       "    <tr>\n",
       "      <th>0</th>\n",
       "      <td>neutral</td>\n",
       "      <td>According to Gran , the company has no plans t...</td>\n",
       "    </tr>\n",
       "    <tr>\n",
       "      <th>1</th>\n",
       "      <td>neutral</td>\n",
       "      <td>Technopolis plans to develop in stages an area...</td>\n",
       "    </tr>\n",
       "    <tr>\n",
       "      <th>2</th>\n",
       "      <td>negative</td>\n",
       "      <td>The international electronic industry company ...</td>\n",
       "    </tr>\n",
       "    <tr>\n",
       "      <th>3</th>\n",
       "      <td>positive</td>\n",
       "      <td>With the new production plant the company woul...</td>\n",
       "    </tr>\n",
       "    <tr>\n",
       "      <th>4</th>\n",
       "      <td>positive</td>\n",
       "      <td>According to the company 's updated strategy f...</td>\n",
       "    </tr>\n",
       "  </tbody>\n",
       "</table>\n",
       "</div>"
      ],
      "text/plain": [
       "      label                                               text\n",
       "0   neutral  According to Gran , the company has no plans t...\n",
       "1   neutral  Technopolis plans to develop in stages an area...\n",
       "2  negative  The international electronic industry company ...\n",
       "3  positive  With the new production plant the company woul...\n",
       "4  positive  According to the company 's updated strategy f..."
      ]
     },
     "execution_count": 17,
     "metadata": {},
     "output_type": "execute_result"
    }
   ],
   "source": [
    "df = pd.read_csv(DATASET, encoding=CSV_ENCODING, header=None)\n",
    "df.columns = ['label', 'text']\n",
    "df.head()"
   ]
  },
  {
   "cell_type": "code",
   "execution_count": 18,
   "metadata": {},
   "outputs": [
    {
     "name": "stdout",
     "output_type": "stream",
     "text": [
      "DESCRIBE:\n",
      "########\n",
      "          label                                               text\n",
      "count      4846                                               4846\n",
      "unique        3                                               4838\n",
      "top     neutral  TELECOMWORLDWIRE-7 April 2006-TJ Group Plc sel...\n",
      "freq       2879                                                  2\n",
      "CHECK NULL: \n",
      " label    0\n",
      "text     0\n",
      "dtype: int64\n",
      "########\n"
     ]
    },
    {
     "data": {
      "image/png": "[encoded data removed]",
      "text/plain": [
       "<Figure size 720x720 with 1 Axes>"
      ]
     },
     "metadata": {
      "needs_background": "light"
     },
     "output_type": "display_data"
    }
   ],
   "source": [
    "print(\"DESCRIBE:\")\n",
    "print(\"########\")\n",
    "print(df.describe())\n",
    "print('CHECK NULL: \\n', df.isnull().sum())\n",
    "print(\"########\")\n",
    "plt.subplot(221)\n",
    "df['label'].value_counts().plot(kind=\"bar\", title=\"Label count\", figsize = (10,10))\n",
    "plt.show()"
   ]
  },
  {
   "cell_type": "markdown",
   "metadata": {},
   "source": [
    "### Clean the doc"
   ]
  },
  {
   "cell_type": "code",
   "execution_count": 19,
   "metadata": {},
   "outputs": [
    {
     "name": "stdout",
     "output_type": "stream",
     "text": [
      "      label                                               text\n",
      "0   neutral  according gran company plan move production ru...\n",
      "1   neutral  technopolis plan develop stage area le square ...\n",
      "2  negative  international electronic industry company elco...\n",
      "3  positive  new production plant company would increase ca...\n",
      "4  positive  according company updated strategy year baswar...\n",
      "According to Gran , the company has no plans to move all production to Russia , although that is where the company is growing .\n",
      "according gran company plan move production russia although company growing\n"
     ]
    }
   ],
   "source": [
    "def clean_text(text):\n",
    "    table = str.maketrans(\"\", '', string.punctuation)\n",
    "    text = text.translate(table)\n",
    "\n",
    "    stop_words = stopwords.words('english')\n",
    "    # porter = PorterStemmer()\n",
    "    lemmatizer = WordNetLemmatizer()\n",
    "    text = text.lower()\n",
    "    tokens = text.split(\" \")\n",
    "\n",
    "    tokens = [lemmatizer.lemmatize(word) for word in tokens if not word in stop_words and word.isalpha()]\n",
    "\n",
    "    text = (\" \").join(tokens)\n",
    "    text = text.lower()\n",
    "\n",
    "    return text \n",
    "\n",
    "processed_df = df.copy(deep=True)\n",
    "\n",
    "processed_df['text'] = processed_df['text'].apply(clean_text)\n",
    "\n",
    "print(processed_df.head())\n",
    "\n",
    "print(df['text'][0])\n",
    "print(processed_df['text'][0])\n"
   ]
  },
  {
   "cell_type": "markdown",
   "metadata": {},
   "source": [
    "### Building Vocab from dataset"
   ]
  },
  {
   "cell_type": "code",
   "execution_count": 20,
   "metadata": {},
   "outputs": [
    {
     "name": "stdout",
     "output_type": "stream",
     "text": [
      "sample texts:  ['according gran company plan move production russia although company growing', 'technopolis plan develop stage area le square meter order host company working computer technology telecommunication statement said', 'international electronic industry company elcoteq laid ten employee tallinn facility contrary earlier layoff company contracted rank office worker daily postimees reported', 'new production plant company would increase capacity meet expected increase demand would improve use raw material therefore increase production profitability', 'according company updated strategy year basware target longterm net sale growth range operating profit margin net sale']\n",
      "Feature vector: [[  50 2865    2  109  482   46   81 2294    2  581    0    0    0    0\n",
      "     0    0    0    0    0    0    0    0    0    0    0    0    0    0\n",
      "     0    0    0    0    0    0    0    0]\n",
      " [ 648  109  684  943   72  582  529 1472   41 2866    2  616  727   35\n",
      "   552  400    3    0    0    0    0    0    0    0    0    0    0    0\n",
      "     0    0    0    0    0    0    0    0]\n",
      " [ 190  502   61    2  238 1021  766   83  944  107 4084   84  373    2\n",
      "  1907 2867  119  728  685 4085  157    0    0    0    0    0    0    0\n",
      "     0    0    0    0    0    0    0    0]\n",
      " [  19   46   34    2   76   60  161 1114   91   60  374   76  503  138\n",
      "   530  178 1319   60   46  945    0    0    0    0    0    0    0    0\n",
      "     0    0    0    0    0    0    0    0]\n",
      " [  50    2 1908  246   14  202  186  401   10    6  120  247   15    9\n",
      "   357   10    6    0    0    0    0    0    0    0    0    0    0    0\n",
      "     0    0    0    0    0    0    0    0]]\n",
      " x length = 4846, shape=(4846, 36)\n",
      "Label: [[0 1 0]\n",
      " [0 1 0]\n",
      " [1 0 0]\n",
      " [0 0 1]\n",
      " [0 0 1]]\n",
      " y length = 4846, shape=(4846, 3)\n"
     ]
    }
   ],
   "source": [
    "# build vocab\n",
    "docs = list() \n",
    "labels = list()\n",
    "for index, row in processed_df.iterrows():\n",
    "    docs.append(row['text'])\n",
    "    labels.append(row['label'])\n",
    "\n",
    "print(\"sample texts: \", docs[: 5])\n",
    "\n",
    "tokenizer = Tokenizer()\n",
    "\n",
    "tokenizer.fit_on_texts(docs)\n",
    "\n",
    "vocab = tokenizer.word_index\n",
    "\n",
    "to_write = list()\n",
    "\n",
    "for key, value in vocab.items():\n",
    "    to_write.append(\"{}:{}\".format(key, value))\n",
    "\n",
    "with open('vocab.txt', 'w') as file:\n",
    "    file.write(\"\\n\".join(to_write))\n",
    "\n",
    "encoded = tokenizer.texts_to_sequences(docs)\n",
    "\n",
    "max_len = max([len(s) for s in encoded])\n",
    "\n",
    "#Pad sequences to form x_train \n",
    "X = pad_sequences(encoded, max_len, padding=\"post\")\n",
    "#one-hot encode label\n",
    "binarizer = LabelBinarizer()\n",
    "y = binarizer.fit_transform(labels)\n",
    "\n",
    "print(\"Feature vector: {}\\n x length = {}, shape={}\".format(X[:5], len(X), X.shape))\n",
    "print(\"Label: {}\\n y length = {}, shape={}\".format(y[: 5], len(y), y.shape))"
   ]
  },
  {
   "cell_type": "code",
   "execution_count": 34,
   "metadata": {},
   "outputs": [
    {
     "name": "stdout",
     "output_type": "stream",
     "text": [
      "WARNING:tensorflow:Layer lstm_4 will not use cuDNN kernels since it doesn't meet the criteria. It will use a generic GPU kernel as fallback when running on GPU.\n",
      "Model: \"sequential_9\"\n",
      "_________________________________________________________________\n",
      " Layer (type)                Output Shape              Param #   \n",
      "=================================================================\n",
      " embedding_9 (Embedding)     (None, 36, 100)           842800    \n",
      "                                                                 \n",
      " conv1d_5 (Conv1D)           (None, 29, 32)            25632     \n",
      "                                                                 \n",
      " max_pooling1d_5 (MaxPooling  (None, 14, 32)           0         \n",
      " 1D)                                                             \n",
      "                                                                 \n",
      " dropout_5 (Dropout)         (None, 14, 32)            0         \n",
      "                                                                 \n",
      " flatten_6 (Flatten)         (None, 448)               0         \n",
      "                                                                 \n",
      " dense_15 (Dense)            (None, 100)               44900     \n",
      "                                                                 \n",
      " dense_16 (Dense)            (None, 3)                 303       \n",
      "                                                                 \n",
      "=================================================================\n",
      "Total params: 913,635\n",
      "Trainable params: 913,635\n",
      "Non-trainable params: 0\n",
      "_________________________________________________________________\n",
      "Model: \"sequential_10\"\n",
      "_________________________________________________________________\n",
      " Layer (type)                Output Shape              Param #   \n",
      "=================================================================\n",
      " embedding_10 (Embedding)    (None, 36, 100)           842800    \n",
      "                                                                 \n",
      " lstm_4 (LSTM)               (None, 128)               117248    \n",
      "                                                                 \n",
      " flatten_7 (Flatten)         (None, 128)               0         \n",
      "                                                                 \n",
      " dense_17 (Dense)            (None, 100)               12900     \n",
      "                                                                 \n",
      " dense_18 (Dense)            (None, 3)                 303       \n",
      "                                                                 \n",
      "=================================================================\n",
      "Total params: 973,251\n",
      "Trainable params: 973,251\n",
      "Non-trainable params: 0\n",
      "_________________________________________________________________\n"
     ]
    }
   ],
   "source": [
    "def summarize_diagnostic(history, path = ''):\n",
    "    plt.figure(figsize=(8,8))\n",
    "    plt.figtext(0.5, 1, path, ha='center', fontsize=18)\n",
    "    plt.subplot(211)\n",
    "    plt.title(\"Loss\")\n",
    "    plt.plot(history.history['loss'], color=\"blue\", label=\"train loss\")\n",
    "    plt.plot(history.history['val_loss'], color=\"red\", label=\"validation loss\")\n",
    "    plt.legend()\n",
    "    plt.subplot(212)\n",
    "    plt.title(\"Accuracy\")\n",
    "    plt.plot(history.history['accuracy'], color=\"blue\", label=\"train accuracy\")\n",
    "    plt.plot(history.history['val_accuracy'], color=\"red\", label=\"validation accuracy\")\n",
    "    plt.legend()\n",
    "    if(path!= ''):\n",
    "        plt.savefig(path, bbox_inches=\"tight\", dpi = 150)\n",
    "\n",
    "def build_base_model(vocab_size, max_len_token):\n",
    "    model = Sequential()\n",
    "    #NOTE: important!!!, vocab_size + 1 is a must, otherwise it'll produce errors during validation state\n",
    "    #it happens when an unknown word appear\n",
    "    model.add(Embedding(vocab_size + 1, 100, embeddings_initializer='he_uniform', input_length=max_len_token))\n",
    "    model.add(Conv1D(filters=32, kernel_size = 8, activation='relu'))\n",
    "    model.add(MaxPooling1D(2))\n",
    "    model.add(Dropout(0.2))\n",
    "    model.add(Flatten())\n",
    "    model.add(Dense(100, activation='relu'))\n",
    "    model.add(Dense(3, activation='softmax'))\n",
    "\n",
    "    model.compile(optimizer='adam', loss=CategoricalCrossentropy(), metrics=['accuracy'])\n",
    "\n",
    "    return model\n",
    "\n",
    "def build_lstm(vocab_size, max_len_token):\n",
    "    model = Sequential()\n",
    "    #NOTE: important!!!, vocab_size + 1 is a must, otherwise it'll produce errors during validation state\n",
    "    #it happens when an unknown word appear\n",
    "    model.add(Embedding(vocab_size + 1, 100, embeddings_initializer='he_uniform', input_length=max_len_token))\n",
    "    model.add(LSTM(128, dropout=0.2, recurrent_dropout=0.2))\n",
    "    model.add(Flatten())\n",
    "    model.add(Dense(100, activation='relu'))\n",
    "    model.add(Dense(3, activation='softmax'))\n",
    "\n",
    "    model.compile(optimizer='adam', loss=CategoricalCrossentropy(), metrics=['accuracy'])\n",
    "\n",
    "    return model\n",
    "\n",
    "model = build_base_model(len(vocab), max_len)\n",
    "\n",
    "lstm = build_lstm(len(vocab), max_len)\n",
    "\n",
    "model.summary()\n",
    "\n",
    "lstm.summary()"
   ]
  },
  {
   "cell_type": "code",
   "execution_count": 35,
   "metadata": {},
   "outputs": [
    {
     "name": "stdout",
     "output_type": "stream",
     "text": [
      "X shape:  (4846, 36)\n",
      "y shape:  (4846, 3)\n",
      "x train shape:  (3876, 36)\n",
      "y train shape:  (3876, 3)\n",
      "x valid shape:  (970, 36)\n",
      "y valid shape:  (970, 3)\n",
      "Epoch 1/50\n",
      "122/122 [==============================] - 11s 79ms/step - loss: 0.9006 - accuracy: 0.6127 - val_loss: 0.7854 - val_accuracy: 0.6526\n",
      "Epoch 2/50\n",
      "122/122 [==============================] - 9s 77ms/step - loss: 0.6312 - accuracy: 0.7317 - val_loss: 0.7453 - val_accuracy: 0.6907\n",
      "Epoch 3/50\n",
      "122/122 [==============================] - 9s 78ms/step - loss: 0.4627 - accuracy: 0.8104 - val_loss: 0.7931 - val_accuracy: 0.6918\n",
      "Epoch 4/50\n",
      "122/122 [==============================] - 10s 78ms/step - loss: 0.3865 - accuracy: 0.8357 - val_loss: 0.9365 - val_accuracy: 0.6670\n",
      "Epoch 5/50\n",
      "122/122 [==============================] - 10s 79ms/step - loss: 0.3469 - accuracy: 0.8493 - val_loss: 0.9821 - val_accuracy: 0.6763\n",
      "Epoch 6/50\n",
      "122/122 [==============================] - 10s 78ms/step - loss: 0.2775 - accuracy: 0.8824 - val_loss: 1.1903 - val_accuracy: 0.6402\n",
      "Epoch 7/50\n",
      "122/122 [==============================] - 10s 79ms/step - loss: 0.2399 - accuracy: 0.9112 - val_loss: 1.1168 - val_accuracy: 0.6814\n",
      "Epoch 8/50\n",
      "122/122 [==============================] - 9s 78ms/step - loss: 0.1765 - accuracy: 0.9412 - val_loss: 1.3495 - val_accuracy: 0.6474\n",
      "Epoch 9/50\n",
      "122/122 [==============================] - 9s 78ms/step - loss: 0.1464 - accuracy: 0.9569 - val_loss: 1.5046 - val_accuracy: 0.6691\n",
      "Epoch 10/50\n",
      "122/122 [==============================] - 9s 78ms/step - loss: 0.1380 - accuracy: 0.9616 - val_loss: 1.3334 - val_accuracy: 0.6536\n",
      "Epoch 11/50\n",
      "122/122 [==============================] - 10s 78ms/step - loss: 0.1226 - accuracy: 0.9628 - val_loss: 1.2004 - val_accuracy: 0.7052\n",
      "Epoch 12/50\n",
      "122/122 [==============================] - 10s 78ms/step - loss: 0.1015 - accuracy: 0.9706 - val_loss: 1.2182 - val_accuracy: 0.7072\n",
      "Epoch 13/50\n",
      "122/122 [==============================] - 9s 78ms/step - loss: 0.0869 - accuracy: 0.9778 - val_loss: 1.3514 - val_accuracy: 0.6990\n",
      "Epoch 14/50\n",
      "122/122 [==============================] - 9s 78ms/step - loss: 0.0902 - accuracy: 0.9765 - val_loss: 1.1985 - val_accuracy: 0.6845\n",
      "Epoch 15/50\n",
      "122/122 [==============================] - 9s 77ms/step - loss: 0.0943 - accuracy: 0.9755 - val_loss: 1.2570 - val_accuracy: 0.7062\n",
      "Epoch 16/50\n",
      "122/122 [==============================] - 10s 78ms/step - loss: 0.0894 - accuracy: 0.9791 - val_loss: 1.3276 - val_accuracy: 0.7052\n",
      "Epoch 17/50\n",
      "122/122 [==============================] - 9s 78ms/step - loss: 0.0776 - accuracy: 0.9791 - val_loss: 1.4135 - val_accuracy: 0.7062\n",
      "Epoch 18/50\n",
      "122/122 [==============================] - 9s 78ms/step - loss: 0.0594 - accuracy: 0.9825 - val_loss: 1.4102 - val_accuracy: 0.6969\n",
      "Epoch 19/50\n",
      "122/122 [==============================] - 10s 79ms/step - loss: 0.0597 - accuracy: 0.9809 - val_loss: 1.3824 - val_accuracy: 0.6897\n",
      "Epoch 20/50\n",
      "122/122 [==============================] - 10s 81ms/step - loss: 0.1069 - accuracy: 0.9727 - val_loss: 1.2184 - val_accuracy: 0.7041\n",
      "Epoch 21/50\n",
      "122/122 [==============================] - 10s 79ms/step - loss: 0.0683 - accuracy: 0.9794 - val_loss: 1.3574 - val_accuracy: 0.7062\n",
      "Epoch 22/50\n",
      "122/122 [==============================] - 9s 77ms/step - loss: 0.0615 - accuracy: 0.9814 - val_loss: 1.4266 - val_accuracy: 0.7134\n",
      "Epoch 23/50\n",
      "122/122 [==============================] - 9s 77ms/step - loss: 0.0736 - accuracy: 0.9783 - val_loss: 1.4680 - val_accuracy: 0.7000\n",
      "Epoch 24/50\n",
      "122/122 [==============================] - 9s 77ms/step - loss: 0.0555 - accuracy: 0.9840 - val_loss: 1.4892 - val_accuracy: 0.7165\n",
      "Epoch 25/50\n",
      "122/122 [==============================] - 9s 77ms/step - loss: 0.0514 - accuracy: 0.9848 - val_loss: 1.6682 - val_accuracy: 0.6990\n",
      "Epoch 26/50\n",
      "122/122 [==============================] - 9s 77ms/step - loss: 0.0576 - accuracy: 0.9832 - val_loss: 1.4975 - val_accuracy: 0.7124\n",
      "Epoch 27/50\n",
      "122/122 [==============================] - 9s 77ms/step - loss: 0.0446 - accuracy: 0.9848 - val_loss: 1.4584 - val_accuracy: 0.7041\n",
      "Epoch 28/50\n",
      "122/122 [==============================] - 9s 77ms/step - loss: 0.0443 - accuracy: 0.9845 - val_loss: 1.3311 - val_accuracy: 0.6959\n",
      "Epoch 29/50\n",
      "122/122 [==============================] - 9s 77ms/step - loss: 0.0450 - accuracy: 0.9874 - val_loss: 1.6554 - val_accuracy: 0.7124\n",
      "Epoch 30/50\n",
      "122/122 [==============================] - 10s 78ms/step - loss: 0.0379 - accuracy: 0.9871 - val_loss: 1.8710 - val_accuracy: 0.7113\n",
      "Epoch 31/50\n",
      "122/122 [==============================] - 9s 78ms/step - loss: 0.0637 - accuracy: 0.9794 - val_loss: 1.6191 - val_accuracy: 0.7206\n",
      "Epoch 32/50\n",
      "122/122 [==============================] - 10s 79ms/step - loss: 0.0589 - accuracy: 0.9819 - val_loss: 1.5539 - val_accuracy: 0.6887\n",
      "Epoch 33/50\n",
      "122/122 [==============================] - 10s 78ms/step - loss: 0.0516 - accuracy: 0.9848 - val_loss: 1.5433 - val_accuracy: 0.7155\n",
      "Epoch 34/50\n",
      "122/122 [==============================] - 10s 79ms/step - loss: 0.0512 - accuracy: 0.9853 - val_loss: 1.7135 - val_accuracy: 0.7124\n",
      "Epoch 35/50\n",
      "122/122 [==============================] - 10s 78ms/step - loss: 0.0425 - accuracy: 0.9876 - val_loss: 1.4032 - val_accuracy: 0.7103\n",
      "Epoch 36/50\n",
      "122/122 [==============================] - 10s 79ms/step - loss: 0.0410 - accuracy: 0.9866 - val_loss: 1.7776 - val_accuracy: 0.7155\n",
      "Epoch 37/50\n",
      "122/122 [==============================] - 10s 78ms/step - loss: 0.0382 - accuracy: 0.9863 - val_loss: 1.7521 - val_accuracy: 0.7062\n",
      "Epoch 38/50\n",
      "122/122 [==============================] - 9s 78ms/step - loss: 0.0398 - accuracy: 0.9871 - val_loss: 1.4398 - val_accuracy: 0.7041\n",
      "Epoch 39/50\n",
      "122/122 [==============================] - 10s 78ms/step - loss: 0.0381 - accuracy: 0.9871 - val_loss: 1.7531 - val_accuracy: 0.7165\n",
      "Epoch 40/50\n",
      "122/122 [==============================] - 10s 79ms/step - loss: 0.0430 - accuracy: 0.9892 - val_loss: 1.8100 - val_accuracy: 0.7103\n",
      "Epoch 41/50\n",
      "122/122 [==============================] - 10s 79ms/step - loss: 0.0329 - accuracy: 0.9892 - val_loss: 1.5463 - val_accuracy: 0.7103\n",
      "Epoch 42/50\n",
      "122/122 [==============================] - 10s 78ms/step - loss: 0.0502 - accuracy: 0.9837 - val_loss: 1.7320 - val_accuracy: 0.6588\n",
      "Epoch 43/50\n",
      "122/122 [==============================] - 10s 78ms/step - loss: 0.0649 - accuracy: 0.9812 - val_loss: 1.2206 - val_accuracy: 0.7165\n",
      "Epoch 44/50\n",
      "122/122 [==============================] - 10s 79ms/step - loss: 0.0374 - accuracy: 0.9874 - val_loss: 1.6652 - val_accuracy: 0.7031\n",
      "Epoch 45/50\n",
      "122/122 [==============================] - 10s 79ms/step - loss: 0.0428 - accuracy: 0.9822 - val_loss: 1.4717 - val_accuracy: 0.6969\n",
      "Epoch 46/50\n",
      "122/122 [==============================] - 10s 79ms/step - loss: 0.0395 - accuracy: 0.9850 - val_loss: 1.9410 - val_accuracy: 0.7165\n",
      "Epoch 47/50\n",
      "122/122 [==============================] - 10s 79ms/step - loss: 0.0426 - accuracy: 0.9858 - val_loss: 1.7544 - val_accuracy: 0.7072\n",
      "Epoch 48/50\n",
      "122/122 [==============================] - 10s 78ms/step - loss: 0.0362 - accuracy: 0.9874 - val_loss: 1.8291 - val_accuracy: 0.7082\n",
      "Epoch 49/50\n",
      "122/122 [==============================] - 10s 78ms/step - loss: 0.0364 - accuracy: 0.9884 - val_loss: 1.3951 - val_accuracy: 0.6876\n",
      "Epoch 50/50\n",
      "122/122 [==============================] - 10s 79ms/step - loss: 0.0412 - accuracy: 0.9861 - val_loss: 1.7475 - val_accuracy: 0.7165\n",
      "31/31 [==============================] - 0s 1ms/step - loss: 1.1060 - accuracy: 0.1216\n",
      "Test loss: 1.1060209274291992, test accuracy: 0.12164948135614395\n"
     ]
    },
    {
     "data": {
      "image/png": "[encoded data removed]",
      "text/plain": [
       "<Figure size 576x576 with 2 Axes>"
      ]
     },
     "metadata": {
      "needs_background": "light"
     },
     "output_type": "display_data"
    }
   ],
   "source": [
    "#Train\n",
    "epochs = 5\n",
    "\n",
    "x_train, x_valid, y_train, y_valid = train_test_split(X, y, test_size=0.2)\n",
    "\n",
    "print(\"X shape: \", X.shape)\n",
    "print(\"y shape: \", y.shape)\n",
    "print(\"x train shape: \", x_train.shape )\n",
    "print(\"y train shape: \", y_train.shape )\n",
    "print(\"x valid shape: \", x_valid.shape )\n",
    "print(\"y valid shape: \", y_valid.shape )\n",
    "\n",
    "# history = model.fit(x_train, y_train, validation_data=[x_valid, y_valid], epochs = epochs)\n",
    "history = lstm.fit(x_train, y_train, validation_data=[x_valid, y_valid], epochs = epochs)\n",
    "\n",
    "summarize_diagnostic(history, 'test.jpg')\n",
    "\n",
    "loss,acc = model.evaluate(x_valid, y_valid)\n",
    "\n",
    "print(\"Test loss: {}, test accuracy: {}\".format(loss, acc))"
   ]
  },
  {
   "cell_type": "code",
   "execution_count": null,
   "metadata": {},
   "outputs": [],
   "source": []
  }
 ],
 "metadata": {
  "interpreter": {
   "hash": "bd4b50b73317022a6c6cd77d285e17e0ffb874fa93a50956528cb9bde22a05db"
  },
  "kernelspec": {
   "display_name": "Python 3 (ipykernel)",
   "language": "python",
   "name": "python3"
  },
  "language_info": {
   "codemirror_mode": {
    "name": "ipython",
    "version": 3
   },
   "file_extension": ".py",
   "mimetype": "text/x-python",
   "name": "python",
   "nbconvert_exporter": "python",
   "pygments_lexer": "ipython3",
   "version": "3.8.10"
  }
 },
 "nbformat": 4,
 "nbformat_minor": 2
}
