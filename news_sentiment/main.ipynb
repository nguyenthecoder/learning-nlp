{
 "cells": [
  {
   "cell_type": "code",
   "execution_count": 48,
   "metadata": {},
   "outputs": [
    {
     "name": "stderr",
     "output_type": "stream",
     "text": [
      "[nltk_data] Downloading package stopwords to\n",
      "[nltk_data]     C:\\Users\\nguye\\AppData\\Roaming\\nltk_data...\n",
      "[nltk_data]   Package stopwords is already up-to-date!\n"
     ]
    }
   ],
   "source": [
    "from nltk.corpus import stopwords\n",
    "import nltk\n",
    "nltk.download('stopwords')\n",
    "from os import listdir\n",
    "import sys\n",
    "from collections import Counter\n",
    "import string\n",
    "from numpy import array\n",
    "import numpy as np\n",
    "\n",
    "from keras.preprocessing.text import Tokenizer\n",
    "from keras.preprocessing.sequence import pad_sequences\n",
    "from keras.models import Sequential\n",
    "from keras.layers import Dense, Flatten, Embedding\n",
    "from keras.layers.convolutional import Conv1D, MaxPooling1D\n",
    "from matplotlib import pyplot\n",
    "\n",
    "from gensim.models import Word2Vec"
   ]
  },
  {
   "cell_type": "code",
   "execution_count": 41,
   "metadata": {},
   "outputs": [],
   "source": [
    "def load_doc(file):\n",
    "    with open(file) as f:\n",
    "        text = f.read()\n",
    "        return text\n",
    "\n",
    "def clean_doc(text):\n",
    "    # text = text.lower()\n",
    "    token = text.split(\" \")\n",
    "\n",
    "    #remove punctuations\n",
    "    table = str.maketrans('','',string.punctuation)\n",
    "    token = [word.translate(table) for word in token]\n",
    "\n",
    "    stop_words = set(stopwords.words('english'))\n",
    "    #remove stopwords and non-alphabet character\n",
    "    # token = [word for word in token if word.isalpha() and word not in stop_words ]\n",
    "    token = [word for word in token if word.isalpha() and word not in stop_words]\n",
    "    # token = [word for word in token if word not in stop_words]\n",
    "\n",
    "\n",
    "    return token\n",
    "\n",
    "def generate_vocab(directory, is_train = True):\n",
    "    vocab = Counter()\n",
    "    for file in listdir(directory):\n",
    "        if is_train and file.startswith(\"cv9\"):\n",
    "            continue\n",
    "        if not is_train and not file.startswith(\"cv9\"):\n",
    "            continue\n",
    "        path = \"/\".join([directory, file])\n",
    "        doc = load_doc(path)\n",
    "        tokens = clean_doc(doc)\n",
    "        vocab.update(tokens)\n",
    "    return vocab\n",
    "\n",
    "def run():\n",
    "    vocab1 = generate_vocab('./datasets/movie_review/txt_sentoken/neg')\n",
    "    vocab2 = generate_vocab('./datasets/movie_review/txt_sentoken/pos')\n",
    "\n",
    "    vocab = vocab1 + vocab2\n",
    "\n",
    "    print('Most common words ', vocab.most_common(10))\n",
    "\n",
    "    #Produce total tokens, ignore tokesn with count < 2\n",
    "    tokens = [word for word,count in vocab.items() if count >= 2]\n",
    "    print(len(tokens))\n",
    "\n",
    "    #save tokens to a file\n",
    "\n",
    "    with open('vocab.txt', 'w') as file:\n",
    "        data = \"\\n\".join(tokens)\n",
    "        file.write(data)  \n",
    "# run()\n"
   ]
  },
  {
   "cell_type": "markdown",
   "metadata": {},
   "source": [
    "### Train embedding layer"
   ]
  },
  {
   "cell_type": "code",
   "execution_count": 42,
   "metadata": {},
   "outputs": [
    {
     "name": "stdout",
     "output_type": "stream",
     "text": [
      "training dataset:  1800\n",
      "test dataset:  200\n"
     ]
    }
   ],
   "source": [
    "def load_dataset(dataset, label, is_training = True):\n",
    "    x = list()\n",
    "    y = list()\n",
    "    for file in listdir(dataset):\n",
    "        if is_training and file.startswith(\"cv9\"):\n",
    "            continue\n",
    "        if is_training == False and file.startswith(\"cv9\") == False:\n",
    "            continue\n",
    "        path = '/'.join([dataset, file])\n",
    "        text = load_doc(path)\n",
    "\n",
    "        tokens = clean_doc(text)\n",
    "\n",
    "        x.append(tokens)\n",
    "        y.append(label)\n",
    "    \n",
    "    return x, y\n",
    "\n",
    "vocab = load_doc('vocab.txt')\n",
    "\n",
    "vocab = vocab.split()\n",
    "vocab = set(vocab)\n",
    "\n",
    "positives, y_pos = load_dataset('./datasets/movie_review/txt_sentoken/pos', 0)\n",
    "negatives, y_neg = load_dataset('./datasets/movie_review/txt_sentoken/neg', 1)\n",
    "\n",
    "test_positives, test_y_pos = load_dataset('./datasets/movie_review/txt_sentoken/pos', 0, False)\n",
    "test_negatives, test_y_neg = load_dataset('./datasets/movie_review/txt_sentoken/neg', 1, False)\n",
    "\n",
    "training_dataset = positives + negatives\n",
    "training_labels = y_pos + y_neg\n",
    "print('training dataset: ', len(training_dataset))\n",
    "\n",
    "test_dataset = test_positives + test_negatives\n",
    "test_labels = test_y_pos + test_y_neg\n",
    "print('test dataset: ', len(test_dataset))\n"
   ]
  },
  {
   "cell_type": "code",
   "execution_count": 44,
   "metadata": {},
   "outputs": [
    {
     "name": "stdout",
     "output_type": "stream",
     "text": [
      "['films', 'adapted', 'comic', 'books', 'plenty', 'success', 'whether', 'theyre', 'superheroes', 'batman', 'superman', 'spawn', 'geared', 'toward', 'kids', 'casper', 'arthouse', 'crowd', 'ghost', 'world', 'theres', 'never', 'really', 'comic', 'book', 'like', 'hell', 'starters', 'created', 'alan', 'moore', 'eddie', 'campbell', 'brought', 'medium', 'whole', 'new', 'level', 'mid', 'series', 'called', 'watchmen', 'say', 'moore', 'campbell', 'thoroughly', 'researched', 'subject', 'jack', 'ripper', 'would', 'like', 'saying', 'michael', 'jackson', 'starting', 'look', 'little', 'odd', 'book', 'graphic', 'novel', 'pages', 'long', 'includes', 'nearly', 'consist', 'nothing', 'footnotes', 'words', 'dont', 'dismiss', 'film', 'source', 'get', 'past', 'whole', 'comic', 'book', 'thing', 'might', 'find', 'another', 'stumbling', 'block', 'hells', 'directors', 'albert', 'allen', 'hughes', 'hughes', 'brothers', 'direct', 'seems', 'almost', 'ludicrous', 'casting', 'carrot', 'top', 'well', 'anything', 'riddle', 'better', 'direct', 'film', 'thats', 'set', 'ghetto', 'features', 'really', 'violent', 'street', 'crime', 'mad', 'geniuses', 'behind', 'menace', 'ii', 'society', 'ghetto', 'question', 'course', 'whitechapel', 'londons', 'east', 'end', 'filthy', 'sooty', 'place', 'whores', 'called', 'unfortunates', 'starting', 'get', 'little', 'nervous', 'mysterious', 'psychopath', 'carving', 'profession', 'surgical', 'precision', 'first', 'stiff', 'turns', 'copper', 'peter', 'godley', 'robbie', 'coltrane', 'world', 'enough', 'calls', 'inspector', 'frederick', 'abberline', 'johnny', 'depp', 'blow', 'crack', 'case', 'widower', 'prophetic', 'dreams', 'unsuccessfully', 'tries', 'quell', 'copious', 'amounts', 'absinthe', 'opium', 'arriving', 'whitechapel', 'befriends', 'unfortunate', 'named', 'mary', 'kelly', 'heather', 'graham', 'say', 'isnt', 'proceeds', 'investigate', 'horribly', 'gruesome', 'crimes', 'even', 'police', 'surgeon', 'cant', 'stomach', 'dont', 'think', 'anyone', 'needs', 'briefed', 'jack', 'ripper', 'wont', 'go', 'particulars', 'say', 'moore', 'campbell', 'unique', 'interesting', 'theory', 'identity', 'killer', 'reasons', 'chooses', 'slay', 'comic', 'dont', 'bother', 'cloaking', 'identity', 'ripper', 'screenwriters', 'terry', 'hayes', 'vertical', 'limit', 'rafael', 'yglesias', 'les', 'mis', 'rables', 'good', 'job', 'keeping', 'hidden', 'viewers', 'end', 'funny', 'watch', 'locals', 'blindly', 'point', 'finger', 'blame', 'jews', 'indians', 'englishman', 'could', 'never', 'capable', 'committing', 'ghastly', 'acts', 'hells', 'ending', 'whistling', 'stonecutters', 'song', 'simpsons', 'days', 'holds', 'back', 'electric', 'carwho', 'made', 'steve', 'guttenberg', 'star', 'worry', 'itll', 'make', 'sense', 'see', 'onto', 'hells', 'appearance', 'certainly', 'dark', 'bleak', 'enough', 'surprising', 'see', 'much', 'looks', 'like', 'tim', 'burton', 'film', 'planet', 'apes', 'times', 'seems', 'like', 'sleepy', 'hollow', 'print', 'saw', 'wasnt', 'completely', 'finished', 'color', 'music', 'finalized', 'comments', 'marilyn', 'manson', 'cinematographer', 'peter', 'deming', 'dont', 'say', 'word', 'ably', 'captures', 'dreariness', 'victorianera', 'london', 'helped', 'make', 'flashy', 'killing', 'scenes', 'remind', 'crazy', 'flashbacks', 'twin', 'peaks', 'even', 'though', 'violence', 'film', 'pales', 'comparison', 'blackandwhite', 'comic', 'winner', 'martin', 'childs', 'shakespeare', 'love', 'production', 'design', 'turns', 'original', 'prague', 'surroundings', 'one', 'creepy', 'place', 'acting', 'hell', 'solid', 'dreamy', 'depp', 'turning', 'typically', 'strong', 'performance', 'deftly', 'handling', 'british', 'accent', 'holm', 'joe', 'goulds', 'secret', 'richardson', 'dalmatians', 'log', 'great', 'supporting', 'roles', 'big', 'surprise', 'graham', 'cringed', 'first', 'time', 'opened', 'mouth', 'imagining', 'attempt', 'irish', 'accent', 'actually', 'wasnt', 'half', 'bad', 'film', 'however', 'good', 'r', 'strong', 'violencegore', 'sexuality', 'language', 'drug', 'content']\n",
      "0\n"
     ]
    }
   ],
   "source": [
    "print(training_dataset[0])"
   ]
  },
  {
   "cell_type": "code",
   "execution_count": 43,
   "metadata": {},
   "outputs": [
    {
     "name": "stdout",
     "output_type": "stream",
     "text": [
      "1354\n",
      "training size:  1800\n",
      "training feature sample:  [   9 2952  238 ...    0    0    0]\n",
      "training label sample: 0\n",
      "test size:  200\n",
      "test feature sample:  [ 449  159 9140 ...    0    0    0]\n",
      "test label sample: 0\n"
     ]
    }
   ],
   "source": [
    "\n",
    "def process_features(features, labels, tokenizer, maxlen, is_train = True):\n",
    "    if is_train:\n",
    "        tokenizer.fit_on_texts(features)\n",
    "    encoded_dataset = tokenizer.texts_to_sequences(features)\n",
    "\n",
    "    #pad sequences to the max length sequence\n",
    "    x_train = pad_sequences(encoded_dataset, maxlen=maxlen, padding=\"post\")\n",
    "    y_train = array(labels)\n",
    "    return x_train, y_train\n",
    "\n",
    "tokenizer = Tokenizer()\n",
    "max_len_token = max([len(s) for s in training_dataset]) \n",
    "print(max_len_token)\n",
    "x_train, y_train = process_features(training_dataset, training_labels, tokenizer, max_len_token)\n",
    "print('training size: ', len(x_train))\n",
    "print('training feature sample: ', x_train[0])\n",
    "print('training label sample:', y_train[0])\n",
    "\n",
    "x_test, y_test = process_features(test_dataset, test_labels, tokenizer, max_len_token, is_train=False)\n",
    "print('test size: ', len(x_test))\n",
    "print('test feature sample: ', x_test[0])\n",
    "print('test label sample:', y_test[0])\n"
   ]
  },
  {
   "cell_type": "markdown",
   "metadata": {},
   "source": [
    "### Define a model"
   ]
  },
  {
   "cell_type": "code",
   "execution_count": 67,
   "metadata": {},
   "outputs": [
    {
     "name": "stdout",
     "output_type": "stream",
     "text": [
      "Model: \"sequential_8\"\n",
      "_________________________________________________________________\n",
      "Layer (type)                 Output Shape              Param #   \n",
      "=================================================================\n",
      "embedding_8 (Embedding)      (None, 1354, 100)         4390800   \n",
      "_________________________________________________________________\n",
      "conv1d_8 (Conv1D)            (None, 1347, 32)          25632     \n",
      "_________________________________________________________________\n",
      "max_pooling1d_8 (MaxPooling1 (None, 673, 32)           0         \n",
      "_________________________________________________________________\n",
      "flatten_8 (Flatten)          (None, 21536)             0         \n",
      "_________________________________________________________________\n",
      "dense_16 (Dense)             (None, 100)               2153700   \n",
      "_________________________________________________________________\n",
      "dense_17 (Dense)             (None, 1)                 101       \n",
      "=================================================================\n",
      "Total params: 6,570,233\n",
      "Trainable params: 6,570,233\n",
      "Non-trainable params: 0\n",
      "_________________________________________________________________\n",
      "Epoch 1/10\n",
      "57/57 [==============================] - 3s 43ms/step - loss: 0.6927 - accuracy: 0.5456\n",
      "Epoch 2/10\n",
      "57/57 [==============================] - 2s 40ms/step - loss: 0.3634 - accuracy: 0.8728\n",
      "Epoch 3/10\n",
      "57/57 [==============================] - 2s 43ms/step - loss: 0.0140 - accuracy: 0.9989\n",
      "Epoch 4/10\n",
      "57/57 [==============================] - 2s 43ms/step - loss: 0.0020 - accuracy: 1.0000\n",
      "Epoch 5/10\n",
      "57/57 [==============================] - 2s 41ms/step - loss: 0.0011 - accuracy: 1.0000\n",
      "Epoch 6/10\n",
      "57/57 [==============================] - 2s 40ms/step - loss: 7.9300e-04 - accuracy: 1.0000\n",
      "Epoch 7/10\n",
      "57/57 [==============================] - 2s 39ms/step - loss: 6.1421e-04 - accuracy: 1.0000\n",
      "Epoch 8/10\n",
      "57/57 [==============================] - 2s 43ms/step - loss: 4.8409e-04 - accuracy: 1.0000\n",
      "Epoch 9/10\n",
      "57/57 [==============================] - 3s 44ms/step - loss: 3.8320e-04 - accuracy: 1.0000\n",
      "Epoch 10/10\n",
      "57/57 [==============================] - 2s 40ms/step - loss: 3.0169e-04 - accuracy: 1.0000\n",
      "7/7 [==============================] - 0s 6ms/step - loss: 0.4527 - accuracy: 0.8500\n",
      "Test accuracy  0.8500000238418579 . Test loss  0.4526684284210205\n"
     ]
    }
   ],
   "source": [
    "\n",
    "def summarize_diagnostic(history, path = ''):\n",
    "    pyplot.figure(figsize=(8,8))\n",
    "    pyplot.figtext(0.5, 1, path, ha='center', fontsize=18)\n",
    "    pyplot.subplot(211)\n",
    "    pyplot.title(\"Loss\")\n",
    "    pyplot.plot(history.history['loss'], color=\"blue\", label=\"train loss\")\n",
    "    pyplot.plot(history.history['val_loss'], color=\"red\", label=\"validation loss\")\n",
    "    pyplot.legend()\n",
    "    pyplot.subplot(212)\n",
    "    pyplot.title(\"Accuracy\")\n",
    "    pyplot.plot(history.history['accuracy'], color=\"blue\", label=\"train accuracy\")\n",
    "    pyplot.plot(history.history['val_accuracy'], color=\"red\", label=\"validation accuracy\")\n",
    "    pyplot.legend()\n",
    "    if(path!= ''):\n",
    "        pyplot.savefig(path)\n",
    "\n",
    "def compile_model(model):\n",
    "    model.compile(loss='binary_crossentropy', optimizer='adam', metrics=['accuracy'])\n",
    "    return model\n",
    "\n",
    "def basic_model(vocab_size, max_length_token):\n",
    "    model = Sequential()\n",
    "    model.add(Embedding(vocab_size, 100, input_length=max_length_token))\n",
    "    model.add(Conv1D(filters=32, kernel_size=8, activation='relu'))\n",
    "    model.add(MaxPooling1D(2))\n",
    "    model.add(Flatten())\n",
    "    model.add(Dense(100, activation='relu'))\n",
    "    model.add(Dense(1, activation='sigmoid'))\n",
    "    return model\n",
    "\n",
    "def training_routine(model, args):\n",
    "    return model.fit(\n",
    "        args['x'],\n",
    "        args['y'],\n",
    "        epochs=args['epoch'],\n",
    "        verbose = args['verbose']\n",
    "    )\n",
    "\n",
    "model = basic_model(len(tokenizer.word_index) + 1, max_len_token)\n",
    "model.summary()\n",
    "model = compile_model(model)\n",
    "\n",
    "history = training_routine(model, {\n",
    "    'x': x_train,\n",
    "    'y': y_train,\n",
    "    'epoch': 10,\n",
    "    'verbose': 1\n",
    "})\n",
    "\n",
    "# summarize_diagnostic(history)\n",
    "\n",
    "loss, acc = model.evaluate(x_test, y_test)\n",
    "print('Test accuracy ', acc, '. Test loss ', loss)"
   ]
  },
  {
   "cell_type": "markdown",
   "metadata": {},
   "source": [
    "### Train embedding layer with word2vec"
   ]
  },
  {
   "cell_type": "code",
   "execution_count": 35,
   "metadata": {},
   "outputs": [
    {
     "name": "stdout",
     "output_type": "stream",
     "text": [
      "vocab size =  25435\n",
      "training sentences:  58109\n"
     ]
    }
   ],
   "source": [
    "def process_doc_for_w2v(doc, vocab):\n",
    "    sentences = list()\n",
    "    for line in doc.splitlines():\n",
    "        table  = str.maketrans('', '', string.punctuation)\n",
    "        line = line.translate(table)\n",
    "        tokens = line.split()\n",
    "        tokens = [word for word in tokens if word in vocab]\n",
    "        sentences.append(tokens)\n",
    "    return sentences\n",
    "\n",
    "def load_dataset_w2v(directory, vocab, is_train = True):\n",
    "    features = list()\n",
    "    for file in listdir(directory):\n",
    "        if is_train and file.startswith('cv9'):\n",
    "            continue\n",
    "        if is_train == False and not file.startswith('cv9'):\n",
    "            continue\n",
    "        with open('/'.join([directory, file])) as f:\n",
    "            doc = f.read()\n",
    "            sentences = process_doc_for_w2v(doc, vocab) \n",
    "            features += sentences\n",
    "    return features \n",
    "\n",
    "#Load the word2vec file \n",
    "def load_embedding(filename):\n",
    "    embedding = dict() \n",
    "    with open(filename) as file:\n",
    "        lines = file.readlines()[1:] # ignore the first line, which is 25435, 100 ( vocab_size, vector_size)\n",
    "        for line in lines:\n",
    "            parts = line.split(\" \")\n",
    "            embedding[parts[0]] = array(parts[1:], dtype='float32')\n",
    "    return embedding\n",
    "\n",
    "def embedding_to_weight_matrix(embedding, vocab):\n",
    "    # vocab size + 1 for unknown words\n",
    "    vocab_size = len(vocab) + 1\n",
    "\n",
    "    matrix = np.zeros((vocab_size, 100)) \n",
    "\n",
    "    for word, index in vocab.items():\n",
    "        matrix[index] = embedding.get(word)\n",
    "\n",
    "    return matrix\n",
    "    \n",
    "#Load the vocab\n",
    "vocab = load_doc('vocab.txt')\n",
    "vocab = set(vocab.split())\n",
    "print('vocab size = ', len(vocab))\n",
    "\n",
    "pos_train = load_dataset_w2v('./datasets/movie_review/txt_sentoken/pos', vocab)\n",
    "neg_train = load_dataset_w2v('./datasets/movie_review/txt_sentoken/neg', vocab)\n",
    "\n",
    "sentences = pos_train + neg_train\n",
    "print(\"training sentences: \", len(x_train))\n"
   ]
  },
  {
   "cell_type": "code",
   "execution_count": 36,
   "metadata": {},
   "outputs": [
    {
     "name": "stdout",
     "output_type": "stream",
     "text": [
      "Total number of words  25435\n"
     ]
    }
   ],
   "source": [
    "w2v = Word2Vec(x_train, vector_size=100, window=5, workers=8, min_count=1)\n",
    "words = list(w2v.wv.key_to_index)\n",
    "print('Total number of words ',len(words))\n",
    "filename = 'word_2_vec.txt'\n",
    "w2v.wv.save_word2vec_format(filename, binary=False)"
   ]
  },
  {
   "cell_type": "code",
   "execution_count": 37,
   "metadata": {},
   "outputs": [],
   "source": [
    "\n"
   ]
  },
  {
   "cell_type": "code",
   "execution_count": 44,
   "metadata": {},
   "outputs": [
    {
     "name": "stdout",
     "output_type": "stream",
     "text": [
      "[[ 0.          0.          0.         ...  0.          0.\n",
      "   0.        ]\n",
      " [-0.67745185  0.434652    0.17125511 ... -0.70728588  0.86512297\n",
      "  -0.0304953 ]\n",
      " [-0.69186592  0.69287962  0.20050693 ... -0.83230758  0.37071192\n",
      "   0.03749175]\n",
      " ...\n",
      " [        nan         nan         nan ...         nan         nan\n",
      "          nan]\n",
      " [        nan         nan         nan ...         nan         nan\n",
      "          nan]\n",
      " [        nan         nan         nan ...         nan         nan\n",
      "          nan]]\n"
     ]
    }
   ],
   "source": [
    "embedding = load_embedding('word_2_vec.txt')\n",
    "weight_matrix = embedding_to_weight_matrix(embedding, tokenizer.word_index)\n",
    "print(weight_matrix)\n"
   ]
  },
  {
   "cell_type": "code",
   "execution_count": 50,
   "metadata": {},
   "outputs": [
    {
     "ename": "ValueError",
     "evalue": "Layer weight shape (25436, 100) not compatible with provided weight shape (43908, 100)",
     "output_type": "error",
     "traceback": [
      "\u001b[1;31m---------------------------------------------------------------------------\u001b[0m",
      "\u001b[1;31mValueError\u001b[0m                                Traceback (most recent call last)",
      "\u001b[1;32mc:\\Users\\nguye\\Desktop\\datascience\\news_sentiment\\main.ipynb Cell 15'\u001b[0m in \u001b[0;36m<cell line: 10>\u001b[1;34m()\u001b[0m\n\u001b[0;32m      <a href='vscode-notebook-cell:/c%3A/Users/nguye/Desktop/datascience/news_sentiment/main.ipynb#ch0000020?line=6'>7</a>\u001b[0m     model\u001b[39m.\u001b[39madd(Dense(\u001b[39m1\u001b[39m, activation\u001b[39m=\u001b[39m\u001b[39m'\u001b[39m\u001b[39msigmoid\u001b[39m\u001b[39m'\u001b[39m))\n\u001b[0;32m      <a href='vscode-notebook-cell:/c%3A/Users/nguye/Desktop/datascience/news_sentiment/main.ipynb#ch0000020?line=7'>8</a>\u001b[0m     \u001b[39mreturn\u001b[39;00m model\n\u001b[1;32m---> <a href='vscode-notebook-cell:/c%3A/Users/nguye/Desktop/datascience/news_sentiment/main.ipynb#ch0000020?line=9'>10</a>\u001b[0m model \u001b[39m=\u001b[39m get_embedding_w2v_model(weight_matrix)\n\u001b[0;32m     <a href='vscode-notebook-cell:/c%3A/Users/nguye/Desktop/datascience/news_sentiment/main.ipynb#ch0000020?line=10'>11</a>\u001b[0m history \u001b[39m=\u001b[39m training_routine(model, {\n\u001b[0;32m     <a href='vscode-notebook-cell:/c%3A/Users/nguye/Desktop/datascience/news_sentiment/main.ipynb#ch0000020?line=11'>12</a>\u001b[0m     \u001b[39m'\u001b[39m\u001b[39mx\u001b[39m\u001b[39m'\u001b[39m: x_train,\n\u001b[0;32m     <a href='vscode-notebook-cell:/c%3A/Users/nguye/Desktop/datascience/news_sentiment/main.ipynb#ch0000020?line=12'>13</a>\u001b[0m     \u001b[39m'\u001b[39m\u001b[39my\u001b[39m\u001b[39m'\u001b[39m: y_train,\n\u001b[0;32m     <a href='vscode-notebook-cell:/c%3A/Users/nguye/Desktop/datascience/news_sentiment/main.ipynb#ch0000020?line=13'>14</a>\u001b[0m     \u001b[39m'\u001b[39m\u001b[39mepoch\u001b[39m\u001b[39m'\u001b[39m: \u001b[39m10\u001b[39m,\n\u001b[0;32m     <a href='vscode-notebook-cell:/c%3A/Users/nguye/Desktop/datascience/news_sentiment/main.ipynb#ch0000020?line=14'>15</a>\u001b[0m     \u001b[39m'\u001b[39m\u001b[39mverbose\u001b[39m\u001b[39m'\u001b[39m: \u001b[39m1\u001b[39m\n\u001b[0;32m     <a href='vscode-notebook-cell:/c%3A/Users/nguye/Desktop/datascience/news_sentiment/main.ipynb#ch0000020?line=15'>16</a>\u001b[0m })\n\u001b[0;32m     <a href='vscode-notebook-cell:/c%3A/Users/nguye/Desktop/datascience/news_sentiment/main.ipynb#ch0000020?line=17'>18</a>\u001b[0m \u001b[39m# summarize_diagnostic(history)\u001b[39;00m\n",
      "\u001b[1;32mc:\\Users\\nguye\\Desktop\\datascience\\news_sentiment\\main.ipynb Cell 15'\u001b[0m in \u001b[0;36mget_embedding_w2v_model\u001b[1;34m(weight_matrix)\u001b[0m\n\u001b[0;32m      <a href='vscode-notebook-cell:/c%3A/Users/nguye/Desktop/datascience/news_sentiment/main.ipynb#ch0000020?line=0'>1</a>\u001b[0m \u001b[39mdef\u001b[39;00m \u001b[39mget_embedding_w2v_model\u001b[39m(weight_matrix):\n\u001b[0;32m      <a href='vscode-notebook-cell:/c%3A/Users/nguye/Desktop/datascience/news_sentiment/main.ipynb#ch0000020?line=1'>2</a>\u001b[0m     model \u001b[39m=\u001b[39m Sequential()\n\u001b[1;32m----> <a href='vscode-notebook-cell:/c%3A/Users/nguye/Desktop/datascience/news_sentiment/main.ipynb#ch0000020?line=2'>3</a>\u001b[0m     model\u001b[39m.\u001b[39;49madd(Embedding(\u001b[39mlen\u001b[39;49m(vocab) \u001b[39m+\u001b[39;49m \u001b[39m1\u001b[39;49m, \u001b[39m100\u001b[39;49m, weights\u001b[39m=\u001b[39;49m[weight_matrix], input_length\u001b[39m=\u001b[39;49mmax_len_token, trainable\u001b[39m=\u001b[39;49m\u001b[39mFalse\u001b[39;49;00m ))\n\u001b[0;32m      <a href='vscode-notebook-cell:/c%3A/Users/nguye/Desktop/datascience/news_sentiment/main.ipynb#ch0000020?line=3'>4</a>\u001b[0m     model\u001b[39m.\u001b[39madd(Conv1D(filters\u001b[39m=\u001b[39m\u001b[39m128\u001b[39m, kernel_size\u001b[39m=\u001b[39m\u001b[39m5\u001b[39m, activation\u001b[39m=\u001b[39m\u001b[39m'\u001b[39m\u001b[39mrelu\u001b[39m\u001b[39m'\u001b[39m))\n\u001b[0;32m      <a href='vscode-notebook-cell:/c%3A/Users/nguye/Desktop/datascience/news_sentiment/main.ipynb#ch0000020?line=4'>5</a>\u001b[0m     model\u001b[39m.\u001b[39madd(MaxPooling1D(\u001b[39m2\u001b[39m))\n",
      "File \u001b[1;32m~\\anaconda3\\envs\\nlp\\lib\\site-packages\\tensorflow\\python\\training\\tracking\\base.py:522\u001b[0m, in \u001b[0;36mno_automatic_dependency_tracking.<locals>._method_wrapper\u001b[1;34m(self, *args, **kwargs)\u001b[0m\n\u001b[0;32m    <a href='file:///c%3A/Users/nguye/anaconda3/envs/nlp/lib/site-packages/tensorflow/python/training/tracking/base.py?line=519'>520</a>\u001b[0m \u001b[39mself\u001b[39m\u001b[39m.\u001b[39m_self_setattr_tracking \u001b[39m=\u001b[39m \u001b[39mFalse\u001b[39;00m  \u001b[39m# pylint: disable=protected-access\u001b[39;00m\n\u001b[0;32m    <a href='file:///c%3A/Users/nguye/anaconda3/envs/nlp/lib/site-packages/tensorflow/python/training/tracking/base.py?line=520'>521</a>\u001b[0m \u001b[39mtry\u001b[39;00m:\n\u001b[1;32m--> <a href='file:///c%3A/Users/nguye/anaconda3/envs/nlp/lib/site-packages/tensorflow/python/training/tracking/base.py?line=521'>522</a>\u001b[0m   result \u001b[39m=\u001b[39m method(\u001b[39mself\u001b[39m, \u001b[39m*\u001b[39margs, \u001b[39m*\u001b[39m\u001b[39m*\u001b[39mkwargs)\n\u001b[0;32m    <a href='file:///c%3A/Users/nguye/anaconda3/envs/nlp/lib/site-packages/tensorflow/python/training/tracking/base.py?line=522'>523</a>\u001b[0m \u001b[39mfinally\u001b[39;00m:\n\u001b[0;32m    <a href='file:///c%3A/Users/nguye/anaconda3/envs/nlp/lib/site-packages/tensorflow/python/training/tracking/base.py?line=523'>524</a>\u001b[0m   \u001b[39mself\u001b[39m\u001b[39m.\u001b[39m_self_setattr_tracking \u001b[39m=\u001b[39m previous_value  \u001b[39m# pylint: disable=protected-access\u001b[39;00m\n",
      "File \u001b[1;32m~\\anaconda3\\envs\\nlp\\lib\\site-packages\\tensorflow\\python\\keras\\engine\\sequential.py:213\u001b[0m, in \u001b[0;36mSequential.add\u001b[1;34m(self, layer)\u001b[0m\n\u001b[0;32m    <a href='file:///c%3A/Users/nguye/anaconda3/envs/nlp/lib/site-packages/tensorflow/python/keras/engine/sequential.py?line=207'>208</a>\u001b[0m     x \u001b[39m=\u001b[39m input_layer\u001b[39m.\u001b[39mInput(\n\u001b[0;32m    <a href='file:///c%3A/Users/nguye/anaconda3/envs/nlp/lib/site-packages/tensorflow/python/keras/engine/sequential.py?line=208'>209</a>\u001b[0m         batch_shape\u001b[39m=\u001b[39mbatch_shape, dtype\u001b[39m=\u001b[39mdtype, name\u001b[39m=\u001b[39mlayer\u001b[39m.\u001b[39mname \u001b[39m+\u001b[39m \u001b[39m'\u001b[39m\u001b[39m_input\u001b[39m\u001b[39m'\u001b[39m)\n\u001b[0;32m    <a href='file:///c%3A/Users/nguye/anaconda3/envs/nlp/lib/site-packages/tensorflow/python/keras/engine/sequential.py?line=209'>210</a>\u001b[0m     \u001b[39m# This will build the current layer\u001b[39;00m\n\u001b[0;32m    <a href='file:///c%3A/Users/nguye/anaconda3/envs/nlp/lib/site-packages/tensorflow/python/keras/engine/sequential.py?line=210'>211</a>\u001b[0m     \u001b[39m# and create the node connecting the current layer\u001b[39;00m\n\u001b[0;32m    <a href='file:///c%3A/Users/nguye/anaconda3/envs/nlp/lib/site-packages/tensorflow/python/keras/engine/sequential.py?line=211'>212</a>\u001b[0m     \u001b[39m# to the input layer we just created.\u001b[39;00m\n\u001b[1;32m--> <a href='file:///c%3A/Users/nguye/anaconda3/envs/nlp/lib/site-packages/tensorflow/python/keras/engine/sequential.py?line=212'>213</a>\u001b[0m     layer(x)\n\u001b[0;32m    <a href='file:///c%3A/Users/nguye/anaconda3/envs/nlp/lib/site-packages/tensorflow/python/keras/engine/sequential.py?line=213'>214</a>\u001b[0m     set_inputs \u001b[39m=\u001b[39m \u001b[39mTrue\u001b[39;00m\n\u001b[0;32m    <a href='file:///c%3A/Users/nguye/anaconda3/envs/nlp/lib/site-packages/tensorflow/python/keras/engine/sequential.py?line=215'>216</a>\u001b[0m \u001b[39mif\u001b[39;00m set_inputs:\n",
      "File \u001b[1;32m~\\anaconda3\\envs\\nlp\\lib\\site-packages\\tensorflow\\python\\keras\\engine\\base_layer.py:969\u001b[0m, in \u001b[0;36mLayer.__call__\u001b[1;34m(self, *args, **kwargs)\u001b[0m\n\u001b[0;32m    <a href='file:///c%3A/Users/nguye/anaconda3/envs/nlp/lib/site-packages/tensorflow/python/keras/engine/base_layer.py?line=962'>963</a>\u001b[0m \u001b[39m# Functional Model construction mode is invoked when `Layer`s are called on\u001b[39;00m\n\u001b[0;32m    <a href='file:///c%3A/Users/nguye/anaconda3/envs/nlp/lib/site-packages/tensorflow/python/keras/engine/base_layer.py?line=963'>964</a>\u001b[0m \u001b[39m# symbolic `KerasTensor`s, i.e.:\u001b[39;00m\n\u001b[0;32m    <a href='file:///c%3A/Users/nguye/anaconda3/envs/nlp/lib/site-packages/tensorflow/python/keras/engine/base_layer.py?line=964'>965</a>\u001b[0m \u001b[39m# >> inputs = tf.keras.Input(10)\u001b[39;00m\n\u001b[0;32m    <a href='file:///c%3A/Users/nguye/anaconda3/envs/nlp/lib/site-packages/tensorflow/python/keras/engine/base_layer.py?line=965'>966</a>\u001b[0m \u001b[39m# >> outputs = MyLayer()(inputs)  # Functional construction mode.\u001b[39;00m\n\u001b[0;32m    <a href='file:///c%3A/Users/nguye/anaconda3/envs/nlp/lib/site-packages/tensorflow/python/keras/engine/base_layer.py?line=966'>967</a>\u001b[0m \u001b[39m# >> model = tf.keras.Model(inputs, outputs)\u001b[39;00m\n\u001b[0;32m    <a href='file:///c%3A/Users/nguye/anaconda3/envs/nlp/lib/site-packages/tensorflow/python/keras/engine/base_layer.py?line=967'>968</a>\u001b[0m \u001b[39mif\u001b[39;00m _in_functional_construction_mode(\u001b[39mself\u001b[39m, inputs, args, kwargs, input_list):\n\u001b[1;32m--> <a href='file:///c%3A/Users/nguye/anaconda3/envs/nlp/lib/site-packages/tensorflow/python/keras/engine/base_layer.py?line=968'>969</a>\u001b[0m   \u001b[39mreturn\u001b[39;00m \u001b[39mself\u001b[39;49m\u001b[39m.\u001b[39;49m_functional_construction_call(inputs, args, kwargs,\n\u001b[0;32m    <a href='file:///c%3A/Users/nguye/anaconda3/envs/nlp/lib/site-packages/tensorflow/python/keras/engine/base_layer.py?line=969'>970</a>\u001b[0m                                             input_list)\n\u001b[0;32m    <a href='file:///c%3A/Users/nguye/anaconda3/envs/nlp/lib/site-packages/tensorflow/python/keras/engine/base_layer.py?line=971'>972</a>\u001b[0m \u001b[39m# Maintains info about the `Layer.call` stack.\u001b[39;00m\n\u001b[0;32m    <a href='file:///c%3A/Users/nguye/anaconda3/envs/nlp/lib/site-packages/tensorflow/python/keras/engine/base_layer.py?line=972'>973</a>\u001b[0m call_context \u001b[39m=\u001b[39m base_layer_utils\u001b[39m.\u001b[39mcall_context()\n",
      "File \u001b[1;32m~\\anaconda3\\envs\\nlp\\lib\\site-packages\\tensorflow\\python\\keras\\engine\\base_layer.py:1107\u001b[0m, in \u001b[0;36mLayer._functional_construction_call\u001b[1;34m(self, inputs, args, kwargs, input_list)\u001b[0m\n\u001b[0;32m   <a href='file:///c%3A/Users/nguye/anaconda3/envs/nlp/lib/site-packages/tensorflow/python/keras/engine/base_layer.py?line=1101'>1102</a>\u001b[0m     training_arg_passed_by_framework \u001b[39m=\u001b[39m \u001b[39mTrue\u001b[39;00m\n\u001b[0;32m   <a href='file:///c%3A/Users/nguye/anaconda3/envs/nlp/lib/site-packages/tensorflow/python/keras/engine/base_layer.py?line=1103'>1104</a>\u001b[0m \u001b[39mwith\u001b[39;00m call_context\u001b[39m.\u001b[39menter(\n\u001b[0;32m   <a href='file:///c%3A/Users/nguye/anaconda3/envs/nlp/lib/site-packages/tensorflow/python/keras/engine/base_layer.py?line=1104'>1105</a>\u001b[0m     layer\u001b[39m=\u001b[39m\u001b[39mself\u001b[39m, inputs\u001b[39m=\u001b[39minputs, build_graph\u001b[39m=\u001b[39m\u001b[39mTrue\u001b[39;00m, training\u001b[39m=\u001b[39mtraining_value):\n\u001b[0;32m   <a href='file:///c%3A/Users/nguye/anaconda3/envs/nlp/lib/site-packages/tensorflow/python/keras/engine/base_layer.py?line=1105'>1106</a>\u001b[0m   \u001b[39m# Check input assumptions set after layer building, e.g. input shape.\u001b[39;00m\n\u001b[1;32m-> <a href='file:///c%3A/Users/nguye/anaconda3/envs/nlp/lib/site-packages/tensorflow/python/keras/engine/base_layer.py?line=1106'>1107</a>\u001b[0m   outputs \u001b[39m=\u001b[39m \u001b[39mself\u001b[39;49m\u001b[39m.\u001b[39;49m_keras_tensor_symbolic_call(\n\u001b[0;32m   <a href='file:///c%3A/Users/nguye/anaconda3/envs/nlp/lib/site-packages/tensorflow/python/keras/engine/base_layer.py?line=1107'>1108</a>\u001b[0m       inputs, input_masks, args, kwargs)\n\u001b[0;32m   <a href='file:///c%3A/Users/nguye/anaconda3/envs/nlp/lib/site-packages/tensorflow/python/keras/engine/base_layer.py?line=1109'>1110</a>\u001b[0m   \u001b[39mif\u001b[39;00m outputs \u001b[39mis\u001b[39;00m \u001b[39mNone\u001b[39;00m:\n\u001b[0;32m   <a href='file:///c%3A/Users/nguye/anaconda3/envs/nlp/lib/site-packages/tensorflow/python/keras/engine/base_layer.py?line=1110'>1111</a>\u001b[0m     \u001b[39mraise\u001b[39;00m \u001b[39mValueError\u001b[39;00m(\u001b[39m'\u001b[39m\u001b[39mA layer\u001b[39m\u001b[39m\\'\u001b[39;00m\u001b[39ms `call` method should return a \u001b[39m\u001b[39m'\u001b[39m\n\u001b[0;32m   <a href='file:///c%3A/Users/nguye/anaconda3/envs/nlp/lib/site-packages/tensorflow/python/keras/engine/base_layer.py?line=1111'>1112</a>\u001b[0m                      \u001b[39m'\u001b[39m\u001b[39mTensor or a list of Tensors, not None \u001b[39m\u001b[39m'\u001b[39m\n\u001b[0;32m   <a href='file:///c%3A/Users/nguye/anaconda3/envs/nlp/lib/site-packages/tensorflow/python/keras/engine/base_layer.py?line=1112'>1113</a>\u001b[0m                      \u001b[39m'\u001b[39m\u001b[39m(layer: \u001b[39m\u001b[39m'\u001b[39m \u001b[39m+\u001b[39m \u001b[39mself\u001b[39m\u001b[39m.\u001b[39mname \u001b[39m+\u001b[39m \u001b[39m'\u001b[39m\u001b[39m).\u001b[39m\u001b[39m'\u001b[39m)\n",
      "File \u001b[1;32m~\\anaconda3\\envs\\nlp\\lib\\site-packages\\tensorflow\\python\\keras\\engine\\base_layer.py:840\u001b[0m, in \u001b[0;36mLayer._keras_tensor_symbolic_call\u001b[1;34m(self, inputs, input_masks, args, kwargs)\u001b[0m\n\u001b[0;32m    <a href='file:///c%3A/Users/nguye/anaconda3/envs/nlp/lib/site-packages/tensorflow/python/keras/engine/base_layer.py?line=837'>838</a>\u001b[0m   \u001b[39mreturn\u001b[39;00m nest\u001b[39m.\u001b[39mmap_structure(keras_tensor\u001b[39m.\u001b[39mKerasTensor, output_signature)\n\u001b[0;32m    <a href='file:///c%3A/Users/nguye/anaconda3/envs/nlp/lib/site-packages/tensorflow/python/keras/engine/base_layer.py?line=838'>839</a>\u001b[0m \u001b[39melse\u001b[39;00m:\n\u001b[1;32m--> <a href='file:///c%3A/Users/nguye/anaconda3/envs/nlp/lib/site-packages/tensorflow/python/keras/engine/base_layer.py?line=839'>840</a>\u001b[0m   \u001b[39mreturn\u001b[39;00m \u001b[39mself\u001b[39;49m\u001b[39m.\u001b[39;49m_infer_output_signature(inputs, args, kwargs, input_masks)\n",
      "File \u001b[1;32m~\\anaconda3\\envs\\nlp\\lib\\site-packages\\tensorflow\\python\\keras\\engine\\base_layer.py:878\u001b[0m, in \u001b[0;36mLayer._infer_output_signature\u001b[1;34m(self, inputs, args, kwargs, input_masks)\u001b[0m\n\u001b[0;32m    <a href='file:///c%3A/Users/nguye/anaconda3/envs/nlp/lib/site-packages/tensorflow/python/keras/engine/base_layer.py?line=871'>872</a>\u001b[0m \u001b[39mwith\u001b[39;00m backend\u001b[39m.\u001b[39mname_scope(\u001b[39mself\u001b[39m\u001b[39m.\u001b[39m_name_scope()):\n\u001b[0;32m    <a href='file:///c%3A/Users/nguye/anaconda3/envs/nlp/lib/site-packages/tensorflow/python/keras/engine/base_layer.py?line=872'>873</a>\u001b[0m   \u001b[39mwith\u001b[39;00m autocast_variable\u001b[39m.\u001b[39menable_auto_cast_variables(\n\u001b[0;32m    <a href='file:///c%3A/Users/nguye/anaconda3/envs/nlp/lib/site-packages/tensorflow/python/keras/engine/base_layer.py?line=873'>874</a>\u001b[0m       \u001b[39mself\u001b[39m\u001b[39m.\u001b[39m_compute_dtype_object):\n\u001b[0;32m    <a href='file:///c%3A/Users/nguye/anaconda3/envs/nlp/lib/site-packages/tensorflow/python/keras/engine/base_layer.py?line=874'>875</a>\u001b[0m     \u001b[39m# Build layer if applicable (if the `build` method has been\u001b[39;00m\n\u001b[0;32m    <a href='file:///c%3A/Users/nguye/anaconda3/envs/nlp/lib/site-packages/tensorflow/python/keras/engine/base_layer.py?line=875'>876</a>\u001b[0m     \u001b[39m# overridden).\u001b[39;00m\n\u001b[0;32m    <a href='file:///c%3A/Users/nguye/anaconda3/envs/nlp/lib/site-packages/tensorflow/python/keras/engine/base_layer.py?line=876'>877</a>\u001b[0m     \u001b[39m# TODO(kaftan): do we maybe_build here, or have we already done it?\u001b[39;00m\n\u001b[1;32m--> <a href='file:///c%3A/Users/nguye/anaconda3/envs/nlp/lib/site-packages/tensorflow/python/keras/engine/base_layer.py?line=877'>878</a>\u001b[0m     \u001b[39mself\u001b[39;49m\u001b[39m.\u001b[39;49m_maybe_build(inputs)\n\u001b[0;32m    <a href='file:///c%3A/Users/nguye/anaconda3/envs/nlp/lib/site-packages/tensorflow/python/keras/engine/base_layer.py?line=878'>879</a>\u001b[0m     inputs \u001b[39m=\u001b[39m \u001b[39mself\u001b[39m\u001b[39m.\u001b[39m_maybe_cast_inputs(inputs)\n\u001b[0;32m    <a href='file:///c%3A/Users/nguye/anaconda3/envs/nlp/lib/site-packages/tensorflow/python/keras/engine/base_layer.py?line=879'>880</a>\u001b[0m     outputs \u001b[39m=\u001b[39m call_fn(inputs, \u001b[39m*\u001b[39margs, \u001b[39m*\u001b[39m\u001b[39m*\u001b[39mkwargs)\n",
      "File \u001b[1;32m~\\anaconda3\\envs\\nlp\\lib\\site-packages\\tensorflow\\python\\keras\\engine\\base_layer.py:2636\u001b[0m, in \u001b[0;36mLayer._maybe_build\u001b[1;34m(self, inputs)\u001b[0m\n\u001b[0;32m   <a href='file:///c%3A/Users/nguye/anaconda3/envs/nlp/lib/site-packages/tensorflow/python/keras/engine/base_layer.py?line=2631'>2632</a>\u001b[0m \u001b[39mif\u001b[39;00m \u001b[39mself\u001b[39m\u001b[39m.\u001b[39m_initial_weights \u001b[39mis\u001b[39;00m \u001b[39mnot\u001b[39;00m \u001b[39mNone\u001b[39;00m:\n\u001b[0;32m   <a href='file:///c%3A/Users/nguye/anaconda3/envs/nlp/lib/site-packages/tensorflow/python/keras/engine/base_layer.py?line=2632'>2633</a>\u001b[0m   \u001b[39mwith\u001b[39;00m ops\u001b[39m.\u001b[39minit_scope():\n\u001b[0;32m   <a href='file:///c%3A/Users/nguye/anaconda3/envs/nlp/lib/site-packages/tensorflow/python/keras/engine/base_layer.py?line=2633'>2634</a>\u001b[0m     \u001b[39m# Using `init_scope` since we want variable assignment in\u001b[39;00m\n\u001b[0;32m   <a href='file:///c%3A/Users/nguye/anaconda3/envs/nlp/lib/site-packages/tensorflow/python/keras/engine/base_layer.py?line=2634'>2635</a>\u001b[0m     \u001b[39m# `set_weights` to be treated like variable initialization.\u001b[39;00m\n\u001b[1;32m-> <a href='file:///c%3A/Users/nguye/anaconda3/envs/nlp/lib/site-packages/tensorflow/python/keras/engine/base_layer.py?line=2635'>2636</a>\u001b[0m     \u001b[39mself\u001b[39;49m\u001b[39m.\u001b[39;49mset_weights(\u001b[39mself\u001b[39;49m\u001b[39m.\u001b[39;49m_initial_weights)\n\u001b[0;32m   <a href='file:///c%3A/Users/nguye/anaconda3/envs/nlp/lib/site-packages/tensorflow/python/keras/engine/base_layer.py?line=2636'>2637</a>\u001b[0m   \u001b[39mself\u001b[39m\u001b[39m.\u001b[39m_initial_weights \u001b[39m=\u001b[39m \u001b[39mNone\u001b[39;00m\n",
      "File \u001b[1;32m~\\anaconda3\\envs\\nlp\\lib\\site-packages\\tensorflow\\python\\keras\\engine\\base_layer.py:1781\u001b[0m, in \u001b[0;36mLayer.set_weights\u001b[1;34m(self, weights)\u001b[0m\n\u001b[0;32m   <a href='file:///c%3A/Users/nguye/anaconda3/envs/nlp/lib/site-packages/tensorflow/python/keras/engine/base_layer.py?line=1778'>1779</a>\u001b[0m ref_shape \u001b[39m=\u001b[39m param\u001b[39m.\u001b[39mshape\n\u001b[0;32m   <a href='file:///c%3A/Users/nguye/anaconda3/envs/nlp/lib/site-packages/tensorflow/python/keras/engine/base_layer.py?line=1779'>1780</a>\u001b[0m \u001b[39mif\u001b[39;00m \u001b[39mnot\u001b[39;00m ref_shape\u001b[39m.\u001b[39mis_compatible_with(weight\u001b[39m.\u001b[39mshape):\n\u001b[1;32m-> <a href='file:///c%3A/Users/nguye/anaconda3/envs/nlp/lib/site-packages/tensorflow/python/keras/engine/base_layer.py?line=1780'>1781</a>\u001b[0m   \u001b[39mraise\u001b[39;00m \u001b[39mValueError\u001b[39;00m(\n\u001b[0;32m   <a href='file:///c%3A/Users/nguye/anaconda3/envs/nlp/lib/site-packages/tensorflow/python/keras/engine/base_layer.py?line=1781'>1782</a>\u001b[0m       \u001b[39m'\u001b[39m\u001b[39mLayer weight shape \u001b[39m\u001b[39m%s\u001b[39;00m\u001b[39m not compatible with provided weight \u001b[39m\u001b[39m'\u001b[39m\n\u001b[0;32m   <a href='file:///c%3A/Users/nguye/anaconda3/envs/nlp/lib/site-packages/tensorflow/python/keras/engine/base_layer.py?line=1782'>1783</a>\u001b[0m       \u001b[39m'\u001b[39m\u001b[39mshape \u001b[39m\u001b[39m%s\u001b[39;00m\u001b[39m'\u001b[39m \u001b[39m%\u001b[39m (ref_shape, weight\u001b[39m.\u001b[39mshape))\n\u001b[0;32m   <a href='file:///c%3A/Users/nguye/anaconda3/envs/nlp/lib/site-packages/tensorflow/python/keras/engine/base_layer.py?line=1783'>1784</a>\u001b[0m weight_value_tuples\u001b[39m.\u001b[39mappend((param, weight))\n\u001b[0;32m   <a href='file:///c%3A/Users/nguye/anaconda3/envs/nlp/lib/site-packages/tensorflow/python/keras/engine/base_layer.py?line=1784'>1785</a>\u001b[0m weight_index \u001b[39m+\u001b[39m\u001b[39m=\u001b[39m \u001b[39m1\u001b[39m\n",
      "\u001b[1;31mValueError\u001b[0m: Layer weight shape (25436, 100) not compatible with provided weight shape (43908, 100)"
     ]
    }
   ],
   "source": [
    "def get_embedding_w2v_model(weight_matrix):\n",
    "    model = Sequential()\n",
    "    model.add(Embedding(len(vocab) + 1, 100, weights=[weight_matrix], input_length=max_len_token, trainable=False ))\n",
    "    model.add(Conv1D(filters=128, kernel_size=5, activation='relu'))\n",
    "    model.add(MaxPooling1D(2))\n",
    "    model.add(Flatten())\n",
    "    model.add(Dense(1, activation='sigmoid'))\n",
    "    return model\n",
    "\n",
    "model = get_embedding_w2v_model(weight_matrix)\n",
    "history = training_routine(model, {\n",
    "    'x': x_train,\n",
    "    'y': y_train,\n",
    "    'epoch': 10,\n",
    "    'verbose': 1\n",
    "})\n",
    "\n",
    "# summarize_diagnostic(history)\n",
    "\n",
    "loss, acc = model.evaluate(x_test, y_test)\n",
    "print('Test accuracy ', acc, '. Test loss ', loss)"
   ]
  },
  {
   "cell_type": "code",
   "execution_count": null,
   "metadata": {},
   "outputs": [],
   "source": []
  }
 ],
 "metadata": {
  "interpreter": {
   "hash": "bd4b50b73317022a6c6cd77d285e17e0ffb874fa93a50956528cb9bde22a05db"
  },
  "kernelspec": {
   "display_name": "Python 3.9.12 ('nlp')",
   "language": "python",
   "name": "python3"
  },
  "language_info": {
   "codemirror_mode": {
    "name": "ipython",
    "version": 3
   },
   "file_extension": ".py",
   "mimetype": "text/x-python",
   "name": "python",
   "nbconvert_exporter": "python",
   "pygments_lexer": "ipython3",
   "version": "3.9.12"
  },
  "orig_nbformat": 4
 },
 "nbformat": 4,
 "nbformat_minor": 2
}
