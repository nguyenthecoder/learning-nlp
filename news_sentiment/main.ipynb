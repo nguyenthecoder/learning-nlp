{
 "cells": [
  {
   "cell_type": "code",
   "execution_count": 16,
   "metadata": {},
   "outputs": [
    {
     "name": "stderr",
     "output_type": "stream",
     "text": [
      "[nltk_data] Downloading package stopwords to\n",
      "[nltk_data]     C:\\Users\\nguye\\AppData\\Roaming\\nltk_data...\n",
      "[nltk_data]   Package stopwords is already up-to-date!\n"
     ]
    }
   ],
   "source": [
    "from nltk.corpus import stopwords\n",
    "import nltk\n",
    "nltk.download('stopwords')\n",
    "from os import listdir\n",
    "import sys\n",
    "from collections import Counter\n",
    "import string"
   ]
  },
  {
   "cell_type": "code",
   "execution_count": 40,
   "metadata": {},
   "outputs": [
    {
     "name": "stdout",
     "output_type": "stream",
     "text": [
      "182  +  250  =  432\n",
      "43907\n",
      "Most common words  [('film', 7978), ('movie', 4819), ('one', 4515), ('like', 3061), ('good', 2058), ('time', 2033), ('even', 1941), ('story', 1904), ('films', 1859), ('would', 1827)]\n"
     ]
    }
   ],
   "source": [
    "def load_doc(file):\n",
    "    with open(file) as f:\n",
    "        text = f.read()\n",
    "        return text\n",
    "\n",
    "def clean_doc(text):\n",
    "    # text = text.lower()\n",
    "    token = text.split(\" \")\n",
    "\n",
    "    #remove punctuations\n",
    "    table = str.maketrans('','',string.punctuation)\n",
    "    token = [word.translate(table) for word in token]\n",
    "\n",
    "    stop_words = set(stopwords.words('english'))\n",
    "    #remove stopwords and non-alphabet character\n",
    "    # token = [word for word in token if word.isalpha() and word not in stop_words ]\n",
    "    token = [word for word in token if word.isalpha() and word not in stop_words]\n",
    "    # token = [word for word in token if word not in stop_words]\n",
    "\n",
    "\n",
    "    return token\n",
    "\n",
    "def generate_vocab(directory, is_train = True):\n",
    "    vocab = Counter()\n",
    "    for file in listdir(directory):\n",
    "        if is_train and file.startswith(\"cv9\"):\n",
    "            continue\n",
    "        if not is_train and not file.startswith(\"cv9\"):\n",
    "            continue\n",
    "        path = \"/\".join([directory, file])\n",
    "        doc = load_doc(path)\n",
    "        tokens = clean_doc(doc)\n",
    "        vocab.update(tokens)\n",
    "    return vocab\n",
    "\n",
    "vocab1 = generate_vocab('./movie_review/txt_sentoken/neg')\n",
    "vocab2 = generate_vocab('./movie_review/txt_sentoken/pos')\n",
    "\n",
    "vocab = vocab1 + vocab2\n",
    "token = tokens1 + tokens2\n",
    "\n",
    "print(len(tokens1), \" + \", len(tokens2), \" = \" ,len(token))\n",
    "\n",
    "print(len(vocab))\n",
    "\n",
    "print('Most common words ', vocab.most_common(10))\n"
   ]
  },
  {
   "cell_type": "code",
   "execution_count": null,
   "metadata": {},
   "outputs": [],
   "source": []
  }
 ],
 "metadata": {
  "interpreter": {
   "hash": "bd4b50b73317022a6c6cd77d285e17e0ffb874fa93a50956528cb9bde22a05db"
  },
  "kernelspec": {
   "display_name": "Python 3.9.12 ('nlp')",
   "language": "python",
   "name": "python3"
  },
  "language_info": {
   "codemirror_mode": {
    "name": "ipython",
    "version": 3
   },
   "file_extension": ".py",
   "mimetype": "text/x-python",
   "name": "python",
   "nbconvert_exporter": "python",
   "pygments_lexer": "ipython3",
   "version": "3.9.12"
  },
  "orig_nbformat": 4
 },
 "nbformat": 4,
 "nbformat_minor": 2
}
