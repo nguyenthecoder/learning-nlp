{
 "cells": [
  {
   "cell_type": "code",
   "execution_count": 2,
   "metadata": {},
   "outputs": [
    {
     "name": "stderr",
     "output_type": "stream",
     "text": [
      "2022-06-09 09:55:14.266914: I tensorflow/stream_executor/cuda/cuda_gpu_executor.cc:975] successful NUMA node read from SysFS had negative value (-1), but there must be at least one NUMA node, so returning NUMA node zero\n",
      "2022-06-09 09:55:14.319131: I tensorflow/stream_executor/cuda/cuda_gpu_executor.cc:975] successful NUMA node read from SysFS had negative value (-1), but there must be at least one NUMA node, so returning NUMA node zero\n",
      "2022-06-09 09:55:14.319257: I tensorflow/stream_executor/cuda/cuda_gpu_executor.cc:975] successful NUMA node read from SysFS had negative value (-1), but there must be at least one NUMA node, so returning NUMA node zero\n"
     ]
    },
    {
     "name": "stdout",
     "output_type": "stream",
     "text": [
      "Num GPUs Available:  1\n",
      "Set GPU  PhysicalDevice(name='/physical_device:GPU:0', device_type='GPU')  memory growth to True\n",
      "Physical GPUs  1 , Logical GPUs  1\n"
     ]
    },
    {
     "name": "stderr",
     "output_type": "stream",
     "text": [
      "2022-06-09 09:55:14.321072: I tensorflow/core/platform/cpu_feature_guard.cc:193] This TensorFlow binary is optimized with oneAPI Deep Neural Network Library (oneDNN) to use the following CPU instructions in performance-critical operations:  AVX2 FMA\n",
      "To enable them in other operations, rebuild TensorFlow with the appropriate compiler flags.\n",
      "2022-06-09 09:55:14.322265: I tensorflow/stream_executor/cuda/cuda_gpu_executor.cc:975] successful NUMA node read from SysFS had negative value (-1), but there must be at least one NUMA node, so returning NUMA node zero\n",
      "2022-06-09 09:55:14.322434: I tensorflow/stream_executor/cuda/cuda_gpu_executor.cc:975] successful NUMA node read from SysFS had negative value (-1), but there must be at least one NUMA node, so returning NUMA node zero\n",
      "2022-06-09 09:55:14.322703: I tensorflow/stream_executor/cuda/cuda_gpu_executor.cc:975] successful NUMA node read from SysFS had negative value (-1), but there must be at least one NUMA node, so returning NUMA node zero\n",
      "2022-06-09 09:55:14.894767: I tensorflow/stream_executor/cuda/cuda_gpu_executor.cc:975] successful NUMA node read from SysFS had negative value (-1), but there must be at least one NUMA node, so returning NUMA node zero\n",
      "2022-06-09 09:55:14.894902: I tensorflow/stream_executor/cuda/cuda_gpu_executor.cc:975] successful NUMA node read from SysFS had negative value (-1), but there must be at least one NUMA node, so returning NUMA node zero\n",
      "2022-06-09 09:55:14.894994: I tensorflow/stream_executor/cuda/cuda_gpu_executor.cc:975] successful NUMA node read from SysFS had negative value (-1), but there must be at least one NUMA node, so returning NUMA node zero\n",
      "2022-06-09 09:55:14.895075: I tensorflow/core/common_runtime/gpu/gpu_device.cc:1532] Created device /job:localhost/replica:0/task:0/device:GPU:0 with 9795 MB memory:  -> device: 0, name: NVIDIA GeForce RTX 3060, pci bus id: 0000:01:00.0, compute capability: 8.6\n",
      "/home/nguyen/Desktop/learning-nlp/.env/lib/python3.8/site-packages/tqdm/auto.py:22: TqdmWarning: IProgress not found. Please update jupyter and ipywidgets. See https://ipywidgets.readthedocs.io/en/stable/user_install.html\n",
      "  from .autonotebook import tqdm as notebook_tqdm\n"
     ]
    }
   ],
   "source": [
    "\n",
    "import tensorflow as tf\n",
    "from tensorflow.data import Dataset\n",
    "from matplotlib import pyplot as plt\n",
    "gpus = tf.config.list_physical_devices('GPU')\n",
    "print(\"Num GPUs Available: \", len(gpus))\n",
    "\n",
    "\n",
    "# tf.test.gpu_device_name()\n",
    "\n",
    "if gpus:\n",
    "    try:\n",
    "        for gpu in gpus:\n",
    "            print('Set GPU ', gpu, ' memory growth to True')\n",
    "            tf.config.experimental.set_memory_growth(gpu, True)\n",
    "\n",
    "        logical_gpus = tf.config.list_logical_devices('GPU')\n",
    "        print('Physical GPUs ', len(gpus), ', Logical GPUs ', len(logical_gpus))\n",
    "    except RuntimeError as e:\n",
    "        print(e)\n",
    "    \n",
    "from transformers import BertTokenizer, TFBertForSequenceClassification\n",
    "from tqdm.notebook import tqdm\n",
    "import pandas as pd\n",
    "import argparse\n",
    "\n",
    "from sklearn.model_selection import train_test_split \n",
    "from sklearn.preprocessing import LabelEncoder\n",
    "import numpy as np\n",
    "import os"
   ]
  },
  {
   "cell_type": "code",
   "execution_count": 3,
   "metadata": {},
   "outputs": [],
   "source": [
    "DATASET = './datasets/all-data.csv'\n",
    "BERT_BASED_UNCASED = './datasets/bert-base-uncased/'\n",
    "MODEL_OUTPUT = './output'\n",
    "\n",
    "if os.path.exists(MODEL_OUTPUT) == False:\n",
    "    os.mkdir(MODEL_OUTPUT)"
   ]
  },
  {
   "cell_type": "code",
   "execution_count": 3,
   "metadata": {},
   "outputs": [],
   "source": [
    "def convert_to_bert_input(df, tokenizer, args):\n",
    "    input_ids = list()\n",
    "    token_type_ids = list()\n",
    "    attention_masks = list()\n",
    "    labels = []\n",
    "\n",
    "    for index, row in df.iterrows():\n",
    "        text = row['text']\n",
    "        label = row['label']\n",
    "\n",
    "        bert_input = text_to_bert_input(text, tokenizer, args.max_length)\n",
    "        input_ids.append(bert_input['input_ids'])\n",
    "        token_type_ids.append(bert_input['token_type_ids'])\n",
    "        attention_masks.append(bert_input['attention_mask'])\n",
    "        labels.append(label)\n",
    "    \n",
    "    dataset =  Dataset.from_tensor_slices((input_ids, attention_masks, token_type_ids, labels))\\\n",
    "        .map(map_bert_input_to_dict)\\\n",
    "        .shuffle(args.seed)\\\n",
    "        .batch(args.batch_size)\n",
    "\n",
    "    dataset_size = len(dataset)\n",
    "    train_size = int(dataset_size * (1 - args.validation_split))\n",
    "    train_dataset = dataset.take(train_size)\n",
    "    valid_dataset = dataset.skip(train_size)\n",
    "\n",
    "    return train_dataset, valid_dataset\n",
    "\n",
    "# def dataset_from_dataframe(df, args):\n",
    "# #Convert pandas df to tensorflow.data.Dataset\n",
    "#     features = list()\n",
    "#     labels = list()\n",
    "#     for index, row in df.iterrows():\n",
    "#         features.append(row['text'])\n",
    "#         labels.append(row['label'])\n",
    "\n",
    "#     dataset = Dataset.from_tensor_slices((features, labels)).batch(args.batch_size)\n",
    "#     dataset_size = len(dataset)\n",
    "#     train_size = int(dataset_size * ( 1 - args.validation_split))\n",
    "\n",
    "#     train_dataset = dataset.take(train_size)\n",
    "#     valid_dataset = dataset.skip(train_size)\n",
    "\n",
    "#     print(\"fulldataset len = \", len(dataset), ', batch size = ', args.batch_size)\n",
    "#     print(\"train dataset len = \", len(train_dataset), ', batch size = ', args.batch_size)\n",
    "#     print(\"valid dataset len = \", len(valid_dataset), ', batch size = ', args.batch_size)\n",
    "\n",
    "#     return train_dataset, valid_dataset\n",
    "\n",
    "def text_to_bert_input(text, tokenizer, max_length):\n",
    "    return tokenizer.encode_plus(\n",
    "        text, \n",
    "        add_special_tokens = True,\n",
    "        return_attention_mask = True,\n",
    "        # padding='max_length',\n",
    "        max_length = max_length,\n",
    "        pad_to_max_length = True,\n",
    "    )\n",
    "\n",
    "def map_bert_input_to_dict(input_id, attention_mask, token_type_ids, label):\n",
    "    return {\n",
    "        'input_ids': input_id,\n",
    "        \"token_type_ids\": token_type_ids,\n",
    "        \"attention_mask\": attention_mask,\n",
    "    }, label\n",
    "\n",
    "def summarize_diagnostic(history, path = '', description = None):\n",
    "    plt.figure(figsize=(10,10))\n",
    "    plt.figtext(0, 1, description, fontsize=15)\n",
    "    plt.subplot(211)\n",
    "    plt.title(\"Loss\")\n",
    "    plt.plot(history.history['loss'], color=\"blue\", label=\"train loss\")\n",
    "    plt.plot(history.history['val_loss'], color=\"red\", label=\"validation loss\")\n",
    "    plt.legend()\n",
    "    plt.subplot(212)\n",
    "    plt.title(\"Accuracy\")\n",
    "    plt.plot(history.history['accuracy'], color=\"blue\", label=\"train accuracy\")\n",
    "    plt.plot(history.history['val_accuracy'], color=\"red\", label=\"validation accuracy\")\n",
    "    plt.legend()\n",
    "    if(path!= ''):\n",
    "        plt.rcParams['savefig.facecolor'] = 'white'\n",
    "        plt.savefig(path, dpi = 100, bbox_inches = 'tight')"
   ]
  },
  {
   "cell_type": "code",
   "execution_count": 4,
   "metadata": {},
   "outputs": [],
   "source": [
    "tokenizer = BertTokenizer.from_pretrained(BERT_BASED_UNCASED,\n",
    " do_lower_case = True)\n",
    "label_encoder = LabelEncoder()"
   ]
  },
  {
   "cell_type": "code",
   "execution_count": 5,
   "metadata": {},
   "outputs": [],
   "source": [
    "args = argparse.Namespace()\n",
    "args.batch_size = 8 \n",
    "args.seed =100 \n",
    "args.validation_split = 0.15\n",
    "args.learning_rate = 1e-5\n",
    "args.epochs = 10\n",
    "args.model_save_file = os.path.join(MODEL_OUTPUT, f'bert_{args.learning_rate}_{args.epochs}')\n",
    "args.model_training_chart = os.path.join(MODEL_OUTPUT, f'bert_{args.learning_rate}_{args.epochs}.png')"
   ]
  },
  {
   "cell_type": "code",
   "execution_count": 6,
   "metadata": {},
   "outputs": [
    {
     "name": "stdout",
     "output_type": "stream",
     "text": [
      "          label                                               text\n",
      "count      4846                                               4846\n",
      "unique        3                                               4838\n",
      "top     neutral  TELECOMWORLDWIRE-7 April 2006-TJ Group Plc sel...\n",
      "freq       2879                                                  2\n",
      "      label                                               text\n",
      "0   neutral  According to Gran , the company has no plans t...\n",
      "1   neutral  Technopolis plans to develop in stages an area...\n",
      "2  negative  The international electronic industry company ...\n",
      "3  positive  With the new production plant the company woul...\n",
      "4  positive  According to the company 's updated strategy f...\n",
      "max sequence length =  81\n",
      "1    2879\n",
      "2    1363\n",
      "0     604\n",
      "Name: label, dtype: int64\n"
     ]
    }
   ],
   "source": [
    "df = pd.read_csv(DATASET, encoding='ISO-8859-1', header = None, names = ['label', 'text'])\n",
    "\n",
    "df.dropna(inplace=True)\n",
    "print(df.describe())\n",
    "print(df.head())\n",
    "\n",
    "max_length = max([len(text.split(\" \")) for text in df['text']])\n",
    "\n",
    "args.max_length = max_length\n",
    "\n",
    "print('max sequence length = ', max_length)\n",
    "\n",
    "le = LabelEncoder()\n",
    "df['label'] = le.fit_transform(df['label'])\n",
    "print(df['label'].value_counts())\n",
    "\n",
    "classes = le.classes_\n",
    "\n",
    "with open(os.path.join(MODEL_OUTPUT, 'label_encoder_classes.txt'), 'w') as file:\n",
    "    for c in classes:\n",
    "        file.write(c+'\\n')\n",
    "\n"
   ]
  },
  {
   "cell_type": "code",
   "execution_count": 7,
   "metadata": {},
   "outputs": [
    {
     "name": "stderr",
     "output_type": "stream",
     "text": [
      "Truncation was not explicitly activated but `max_length` is provided a specific value, please use `truncation=True` to explicitly truncate examples to max length. Defaulting to 'longest_first' truncation strategy. If you encode pairs of sequences (GLUE-style) with the tokenizer you can select this strategy more precisely by providing a specific strategy to `truncation`.\n",
      "/home/nguyen/Desktop/learning-nlp/.env/lib/python3.8/site-packages/transformers/tokenization_utils_base.py:2285: FutureWarning: The `pad_to_max_length` argument is deprecated and will be removed in a future version, use `padding=True` or `padding='longest'` to pad to the longest sequence in the batch, or use `padding='max_length'` to pad to a max length. In this case, you can give a specific length with `max_length` (e.g. `max_length=45`) or leave max_length to None to pad to the maximal input size of the model (e.g. 512 for Bert).\n",
      "  warnings.warn(\n"
     ]
    },
    {
     "name": "stdout",
     "output_type": "stream",
     "text": [
      "Len training dataset  515\n",
      "Len valid dataset  91\n"
     ]
    }
   ],
   "source": [
    "train_dataset, valid_dataset = convert_to_bert_input(df, tokenizer, args)\n",
    "print(\"Len training dataset \", len(train_dataset))\n",
    "print(\"Len valid dataset \", len(valid_dataset))"
   ]
  },
  {
   "cell_type": "code",
   "execution_count": 8,
   "metadata": {},
   "outputs": [
    {
     "name": "stderr",
     "output_type": "stream",
     "text": [
      "2022-06-08 18:41:03.860212: I tensorflow/stream_executor/cuda/cuda_blas.cc:1786] TensorFloat-32 will be used for the matrix multiplication. This will only be logged once.\n",
      "All model checkpoint layers were used when initializing TFBertForSequenceClassification.\n",
      "\n",
      "Some layers of TFBertForSequenceClassification were not initialized from the model checkpoint at ./datasets/bert-base-uncased/ and are newly initialized: ['classifier']\n",
      "You should probably TRAIN this model on a down-stream task to be able to use it for predictions and inference.\n"
     ]
    },
    {
     "name": "stdout",
     "output_type": "stream",
     "text": [
      "Model: \"tf_bert_for_sequence_classification\"\n",
      "_________________________________________________________________\n",
      " Layer (type)                Output Shape              Param #   \n",
      "=================================================================\n",
      " bert (TFBertMainLayer)      multiple                  109482240 \n",
      "                                                                 \n",
      " dropout_37 (Dropout)        multiple                  0         \n",
      "                                                                 \n",
      " classifier (Dense)          multiple                  2307      \n",
      "                                                                 \n",
      "=================================================================\n",
      "Total params: 109,484,547\n",
      "Trainable params: 109,484,547\n",
      "Non-trainable params: 0\n",
      "_________________________________________________________________\n",
      "None\n"
     ]
    }
   ],
   "source": [
    "# Build a model\n",
    "\n",
    "model = TFBertForSequenceClassification.from_pretrained(BERT_BASED_UNCASED, num_labels = 3)\n",
    "\n",
    "model.compile(\n",
    "    optimizer = tf.keras.optimizers.Adam(learning_rate=args.learning_rate, epsilon=1e-8),\n",
    "    loss = tf.keras.losses.SparseCategoricalCrossentropy(from_logits=True),\n",
    "    metrics = [tf.keras.metrics.SparseCategoricalAccuracy('accuracy')]\n",
    ")\n",
    "\n",
    "print(model.summary())"
   ]
  },
  {
   "cell_type": "code",
   "execution_count": 9,
   "metadata": {},
   "outputs": [
    {
     "name": "stdout",
     "output_type": "stream",
     "text": [
      "Epoch 1/10\n",
      "515/515 [==============================] - 75s 122ms/step - loss: 0.5296 - accuracy: 0.7896 - val_loss: 0.5899 - val_accuracy: 0.8264\n",
      "Epoch 2/10\n",
      "515/515 [==============================] - 61s 118ms/step - loss: 0.3168 - accuracy: 0.8765 - val_loss: 0.4129 - val_accuracy: 0.8430\n",
      "Epoch 3/10\n",
      "515/515 [==============================] - 61s 118ms/step - loss: 0.1866 - accuracy: 0.9301 - val_loss: 0.4239 - val_accuracy: 0.8512\n",
      "Epoch 4/10\n",
      "515/515 [==============================] - 61s 118ms/step - loss: 0.1363 - accuracy: 0.9527 - val_loss: 0.4015 - val_accuracy: 0.8526\n",
      "Epoch 5/10\n",
      "515/515 [==============================] - 61s 118ms/step - loss: 0.0822 - accuracy: 0.9745 - val_loss: 0.4935 - val_accuracy: 0.8512\n",
      "Epoch 6/10\n",
      "515/515 [==============================] - 61s 118ms/step - loss: 0.0563 - accuracy: 0.9847 - val_loss: 0.4382 - val_accuracy: 0.8499\n",
      "Epoch 7/10\n",
      "515/515 [==============================] - 61s 118ms/step - loss: 0.0442 - accuracy: 0.9857 - val_loss: 0.5579 - val_accuracy: 0.8512\n",
      "Epoch 8/10\n",
      "515/515 [==============================] - 60s 117ms/step - loss: 0.0431 - accuracy: 0.9862 - val_loss: 0.5984 - val_accuracy: 0.8540\n",
      "Epoch 9/10\n",
      "515/515 [==============================] - 60s 117ms/step - loss: 0.0392 - accuracy: 0.9852 - val_loss: 0.6392 - val_accuracy: 0.8471\n",
      "Epoch 10/10\n",
      "515/515 [==============================] - 60s 117ms/step - loss: 0.0257 - accuracy: 0.9932 - val_loss: 0.6272 - val_accuracy: 0.8512\n"
     ]
    }
   ],
   "source": [
    "history = model.fit(\n",
    "    train_dataset,\n",
    "    epochs = args.epochs,\n",
    "    validation_data = valid_dataset\n",
    ")"
   ]
  },
  {
   "cell_type": "code",
   "execution_count": 10,
   "metadata": {},
   "outputs": [
    {
     "data": {
      "image/png": "[encoded data removed]",
      "text/plain": [
       "<Figure size 720x720 with 2 Axes>"
      ]
     },
     "metadata": {
      "needs_background": "light"
     },
     "output_type": "display_data"
    }
   ],
   "source": [
    "description_text = f\"\\\n",
    "    RESULTS:\\n\\\n",
    "    model name: Bert\\n\\\n",
    "    validation ratio: {args.validation_split}\\n\\\n",
    "    learning_rate: {args.learning_rate}\\n\\\n",
    "    epochs: {args.epochs}\\n\\\n",
    "    max validaccuracy: {np.max(history.history['val_accuracy'])}\\n\\\n",
    "    min valid loss: {np.min(history.history['val_loss'])}\\n\\\n",
    "    path to saved model: {args.model_save_file}\"\n",
    "\n",
    "summarize_diagnostic(history, args.model_training_chart, description=description_text)"
   ]
  },
  {
   "cell_type": "code",
   "execution_count": 11,
   "metadata": {},
   "outputs": [],
   "source": [
    "model.save_pretrained(args.model_save_file)"
   ]
  },
  {
   "cell_type": "markdown",
   "metadata": {},
   "source": [
    "### Load the model and predict on some samples"
   ]
  },
  {
   "cell_type": "code",
   "execution_count": 4,
   "metadata": {},
   "outputs": [
    {
     "name": "stderr",
     "output_type": "stream",
     "text": [
      "2022-06-09 09:55:24.330273: I tensorflow/stream_executor/cuda/cuda_blas.cc:1786] TensorFloat-32 will be used for the matrix multiplication. This will only be logged once.\n",
      "All model checkpoint layers were used when initializing TFBertForSequenceClassification.\n",
      "\n",
      "All the layers of TFBertForSequenceClassification were initialized from the model checkpoint at ./datasets/output/bert_1e-05_10.\n",
      "If your task is similar to the task the model of the checkpoint was trained on, you can already use TFBertForSequenceClassification for predictions without further training.\n"
     ]
    },
    {
     "name": "stdout",
     "output_type": "stream",
     "text": [
      "Loaded label encoder classes \n",
      " ['negative' 'neutral' 'positive']\n"
     ]
    }
   ],
   "source": [
    "model = TFBertForSequenceClassification.from_pretrained(os.path.join(MODEL_OUTPUT, 'bert_1e-05_10'))\n",
    "\n",
    "tokenizer = BertTokenizer.from_pretrained(BERT_BASED_UNCASED,\n",
    " do_lower_case = True)\n",
    "label_encoder = LabelEncoder()\n",
    "\n",
    "classes = list()\n",
    "with open(os.path.join(MODEL_OUTPUT, 'label_encoder_classes.txt'), 'r') as file:\n",
    "    for line in file.readlines():\n",
    "        classes.append(line.strip())\n",
    "\n",
    "label_encoder.classes_ = np.asarray(classes)\n",
    "\n",
    "print(\"Loaded label encoder classes \\n\", label_encoder.classes_)\n"
   ]
  },
  {
   "cell_type": "code",
   "execution_count": 5,
   "metadata": {},
   "outputs": [
    {
     "name": "stdout",
     "output_type": "stream",
     "text": [
      "Model: \"tf_bert_for_sequence_classification\"\n",
      "_________________________________________________________________\n",
      " Layer (type)                Output Shape              Param #   \n",
      "=================================================================\n",
      " bert (TFBertMainLayer)      multiple                  109482240 \n",
      "                                                                 \n",
      " dropout_37 (Dropout)        multiple                  0         \n",
      "                                                                 \n",
      " classifier (Dense)          multiple                  2307      \n",
      "                                                                 \n",
      "=================================================================\n",
      "Total params: 109,484,547\n",
      "Trainable params: 109,484,547\n",
      "Non-trainable params: 0\n",
      "_________________________________________________________________\n"
     ]
    }
   ],
   "source": [
    "model.summary()"
   ]
  },
  {
   "cell_type": "code",
   "execution_count": 6,
   "metadata": {},
   "outputs": [],
   "source": [
    "samples = [\n",
    "\"Tech’s Decade of Stock-Market Dominance Ends, For Now\",\n",
    "\"Dow Jones Falls As Treasury Yields Climb; Tesla Races Higher On Battery Deal\",\n",
    "\"Santoli: The volatility of the market’s ‘fear gauge’ is down, sparking some concern on Wall Street\",\n",
    "\"Dow Jones Futures Fall After Bullish Market Action; Tesla To Buy Batteries From Top EV Rival\",\n",
    "\"Stock market news live updates: Stocks mixed as inflation concerns persist\",\n",
    "\"Today's Stock Market News & Events: 6/8/2022\",\n",
    "\"Stock market news live updates: Stocks gain in back-and-forth session as volatile trading continues\"\n",
    "]"
   ]
  },
  {
   "cell_type": "code",
   "execution_count": 7,
   "metadata": {},
   "outputs": [
    {
     "name": "stdout",
     "output_type": "stream",
     "text": [
      "Input : Dow Jones Falls As Treasury Yields Climb; Tesla Races Higher On Battery Deal\n",
      "{'input_ids': <tf.Tensor: shape=(7, 28), dtype=int32, numpy=\n",
      "array([[  101,  6627,  1521,  1055,  5476,  1997,  4518,  1011,  3006,\n",
      "        13811,  4515,  1010,  2005,  2085,   102,     0,     0,     0,\n",
      "            0,     0,     0,     0,     0,     0,     0,     0,     0,\n",
      "            0],\n",
      "       [  101, 23268,  3557,  4212,  2004,  9837, 16189,  7105,  1025,\n",
      "        26060,  3837,  3020,  2006,  6046,  3066,   102,     0,     0,\n",
      "            0,     0,     0,     0,     0,     0,     0,     0,     0,\n",
      "            0],\n",
      "       [  101, 11685,  3669,  1024,  1996,  5285, 10450, 18605,  1997,\n",
      "         1996,  3006,  1521,  1055,  1520,  3571,  7633,  1521,  2003,\n",
      "         2091,  1010, 12125,  2075,  2070,  5142,  2006,  2813,  2395,\n",
      "          102],\n",
      "       [  101, 23268,  3557, 17795,  2991,  2044,  7087,  4509,  3006,\n",
      "         2895,  1025, 26060,  2000,  4965, 10274,  2013,  2327, 23408,\n",
      "         6538,   102,     0,     0,     0,     0,     0,     0,     0,\n",
      "            0],\n",
      "       [  101,  4518,  3006,  2739,  2444, 14409,  1024, 15768,  3816,\n",
      "         2004, 14200,  5936, 29486,   102,     0,     0,     0,     0,\n",
      "            0,     0,     0,     0,     0,     0,     0,     0,     0,\n",
      "            0],\n",
      "       [  101,  2651,  1005,  1055,  4518,  3006,  2739,  1004,  2824,\n",
      "         1024,  1020,  1013,  1022,  1013, 16798,  2475,   102,     0,\n",
      "            0,     0,     0,     0,     0,     0,     0,     0,     0,\n",
      "            0],\n",
      "       [  101,  4518,  3006,  2739,  2444, 14409,  1024, 15768,  5114,\n",
      "         1999,  2067,  1011,  1998,  1011,  5743,  5219,  2004, 20606,\n",
      "         6202,  4247,   102,     0,     0,     0,     0,     0,     0,\n",
      "            0]], dtype=int32)>, 'token_type_ids': <tf.Tensor: shape=(7, 28), dtype=int32, numpy=\n",
      "array([[0, 0, 0, 0, 0, 0, 0, 0, 0, 0, 0, 0, 0, 0, 0, 0, 0, 0, 0, 0, 0, 0,\n",
      "        0, 0, 0, 0, 0, 0],\n",
      "       [0, 0, 0, 0, 0, 0, 0, 0, 0, 0, 0, 0, 0, 0, 0, 0, 0, 0, 0, 0, 0, 0,\n",
      "        0, 0, 0, 0, 0, 0],\n",
      "       [0, 0, 0, 0, 0, 0, 0, 0, 0, 0, 0, 0, 0, 0, 0, 0, 0, 0, 0, 0, 0, 0,\n",
      "        0, 0, 0, 0, 0, 0],\n",
      "       [0, 0, 0, 0, 0, 0, 0, 0, 0, 0, 0, 0, 0, 0, 0, 0, 0, 0, 0, 0, 0, 0,\n",
      "        0, 0, 0, 0, 0, 0],\n",
      "       [0, 0, 0, 0, 0, 0, 0, 0, 0, 0, 0, 0, 0, 0, 0, 0, 0, 0, 0, 0, 0, 0,\n",
      "        0, 0, 0, 0, 0, 0],\n",
      "       [0, 0, 0, 0, 0, 0, 0, 0, 0, 0, 0, 0, 0, 0, 0, 0, 0, 0, 0, 0, 0, 0,\n",
      "        0, 0, 0, 0, 0, 0],\n",
      "       [0, 0, 0, 0, 0, 0, 0, 0, 0, 0, 0, 0, 0, 0, 0, 0, 0, 0, 0, 0, 0, 0,\n",
      "        0, 0, 0, 0, 0, 0]], dtype=int32)>, 'attention_mask': <tf.Tensor: shape=(7, 28), dtype=int32, numpy=\n",
      "array([[1, 1, 1, 1, 1, 1, 1, 1, 1, 1, 1, 1, 1, 1, 1, 0, 0, 0, 0, 0, 0, 0,\n",
      "        0, 0, 0, 0, 0, 0],\n",
      "       [1, 1, 1, 1, 1, 1, 1, 1, 1, 1, 1, 1, 1, 1, 1, 1, 0, 0, 0, 0, 0, 0,\n",
      "        0, 0, 0, 0, 0, 0],\n",
      "       [1, 1, 1, 1, 1, 1, 1, 1, 1, 1, 1, 1, 1, 1, 1, 1, 1, 1, 1, 1, 1, 1,\n",
      "        1, 1, 1, 1, 1, 1],\n",
      "       [1, 1, 1, 1, 1, 1, 1, 1, 1, 1, 1, 1, 1, 1, 1, 1, 1, 1, 1, 1, 0, 0,\n",
      "        0, 0, 0, 0, 0, 0],\n",
      "       [1, 1, 1, 1, 1, 1, 1, 1, 1, 1, 1, 1, 1, 1, 0, 0, 0, 0, 0, 0, 0, 0,\n",
      "        0, 0, 0, 0, 0, 0],\n",
      "       [1, 1, 1, 1, 1, 1, 1, 1, 1, 1, 1, 1, 1, 1, 1, 1, 1, 0, 0, 0, 0, 0,\n",
      "        0, 0, 0, 0, 0, 0],\n",
      "       [1, 1, 1, 1, 1, 1, 1, 1, 1, 1, 1, 1, 1, 1, 1, 1, 1, 1, 1, 1, 1, 0,\n",
      "        0, 0, 0, 0, 0, 0]], dtype=int32)>}\n",
      "1/1 [==============================] - 4s 4s/step\n",
      "TFSequenceClassifierOutput(loss=None, logits=array([[-1.6364224 ,  2.8797848 , -1.6613957 ],\n",
      "       [-1.775708  ,  1.2056284 , -0.03943112],\n",
      "       [ 4.0828857 , -1.077465  , -2.3945706 ],\n",
      "       [ 2.9409425 , -0.50773424, -2.3600993 ],\n",
      "       [ 1.621517  ,  2.042989  , -3.5974965 ],\n",
      "       [-2.401877  ,  5.175406  , -3.2243094 ],\n",
      "       [-2.7293198 ,  4.6655354 , -2.387273  ]], dtype=float32), hidden_states=None, attentions=None)\n"
     ]
    }
   ],
   "source": [
    "print(\"Input :\", samples[1])\n",
    "\n",
    "input = tokenizer(\n",
    "    samples,\n",
    "    padding = True,\n",
    "    max_length = 81,\n",
    "    truncation=True,\n",
    "    return_tensors = 'tf'\n",
    ")\n",
    "\n",
    "print(input)\n",
    "\n",
    "X_input = {\n",
    "    \"input_ids\": np.asarray(input['input_ids']),\n",
    "    \"token_type_ids\": np.asarray(input['token_type_ids']),\n",
    "    \"attention_mask\": np.asarray(input['attention_mask']),\n",
    "\n",
    "}\n",
    "\n",
    "pred = model.predict(X_input)\n",
    "\n",
    "print(pred)"
   ]
  },
  {
   "cell_type": "code",
   "execution_count": 10,
   "metadata": {},
   "outputs": [
    {
     "name": "stdout",
     "output_type": "stream",
     "text": [
      "[[1.0699389e-02 9.7886515e-01 1.0435497e-02]\n",
      " [3.7892688e-02 7.4702191e-01 2.1508537e-01]\n",
      " [9.9277520e-01 5.6982180e-03 1.5266078e-03]\n",
      " [9.6453035e-01 3.0660169e-02 4.8095314e-03]\n",
      " [3.9531690e-01 6.0254341e-01 2.1397178e-03]\n",
      " [5.1157334e-04 9.9926358e-01 2.2476567e-04]\n",
      " [6.1349786e-04 9.9852282e-01 8.6369831e-04]]\n",
      "[1 1 0 0 1 1 1]\n",
      "Tech’s Decade of Stock-Market Dominance Ends, For Now : neutral\n",
      "Dow Jones Falls As Treasury Yields Climb; Tesla Races Higher On Battery Deal : neutral\n",
      "Santoli: The volatility of the market’s ‘fear gauge’ is down, sparking some concern on Wall Street : negative\n",
      "Dow Jones Futures Fall After Bullish Market Action; Tesla To Buy Batteries From Top EV Rival : negative\n",
      "Stock market news live updates: Stocks mixed as inflation concerns persist : neutral\n",
      "Today's Stock Market News & Events: 6/8/2022 : neutral\n",
      "Stock market news live updates: Stocks gain in back-and-forth session as volatile trading continues : neutral\n"
     ]
    }
   ],
   "source": [
    "pred_prob = tf.nn.softmax(pred.logits).numpy()\n",
    "print(pred_prob)\n",
    "final_pred = tf.argmax(pred_prob, axis = 1).numpy()\n",
    "\n",
    "print(final_pred)\n",
    "\n",
    "labels = list(label_encoder.inverse_transform(final_pred))\n",
    "\n",
    "for sample, label in zip(samples, labels):\n",
    "    print(f'{sample} : {label}')"
   ]
  }
 ],
 "metadata": {
  "interpreter": {
   "hash": "c0d7dc6e64a9e359254f8d06b330018ca268ad260a16e8e2d7e4b5791285c80d"
  },
  "kernelspec": {
   "display_name": "Python 3.8.10 ('.env': venv)",
   "language": "python",
   "name": "python3"
  },
  "language_info": {
   "codemirror_mode": {
    "name": "ipython",
    "version": 3
   },
   "file_extension": ".py",
   "mimetype": "text/x-python",
   "name": "python",
   "nbconvert_exporter": "python",
   "pygments_lexer": "ipython3",
   "version": "3.8.10"
  },
  "orig_nbformat": 4
 },
 "nbformat": 4,
 "nbformat_minor": 2
}
